{
 "cells": [
  {
   "cell_type": "code",
   "execution_count": 3,
   "id": "d7967349",
   "metadata": {},
   "outputs": [],
   "source": [
    "class Book:\n",
    "    def __init__(self, title, author, book_type, pages):\n",
    "        self.title = title\n",
    "        self.author = author\n",
    "        self.book_type = book_type\n",
    "        self.pages = pages\n",
    "    def __repr__(self):\n",
    "        return f\"Book('{self.title}', '{self.author}', '{self.book_type}', {self.pages})\"\n",
    "    def __eq__(self, other):\n",
    "        if not isinstance(other, Book):\n",
    "            return False\n",
    "        return self.title == other.title and self.author == other.author\n",
    "    def __gt__(self, other):\n",
    "        if not isinstance(other, Book):\n",
    "            return NotImplemented\n",
    "        \n",
    "        return self.pages > other.pages\n",
    "    def __ge__(self, other):\n",
    "        return True\n",
    "    def __lt__(self, other):\n",
    "        return True\n",
    "    def __le__(self, other):\n",
    "        if not isinstance(other, Book):\n",
    "            return NotImplemented\n",
    "        \n",
    "        return self.pages <= other.pages\n",
    "    def __hash__(self):\n",
    "        return hash((self.title,self.author))"
   ]
  },
  {
   "cell_type": "code",
   "execution_count": 4,
   "id": "668efd9b",
   "metadata": {},
   "outputs": [],
   "source": [
    "b = Book(\"Antifragile\", \"Nassim Taleb\", \"Hardcover\", 519)\n",
    "b1 = Book(\"How Asia Works\", \"Joe Studwell\", \"Paperback\", 472)"
   ]
  },
  {
   "cell_type": "code",
   "execution_count": 5,
   "id": "07758299",
   "metadata": {},
   "outputs": [
    {
     "data": {
      "text/plain": [
       "True"
      ]
     },
     "execution_count": 5,
     "metadata": {},
     "output_type": "execute_result"
    }
   ],
   "source": [
    "b > b1"
   ]
  },
  {
   "cell_type": "code",
   "execution_count": 6,
   "id": "005b0565",
   "metadata": {},
   "outputs": [
    {
     "data": {
      "text/plain": [
       "True"
      ]
     },
     "execution_count": 6,
     "metadata": {},
     "output_type": "execute_result"
    }
   ],
   "source": [
    "b < b1"
   ]
  },
  {
   "cell_type": "code",
   "execution_count": 7,
   "id": "9d00686d",
   "metadata": {},
   "outputs": [],
   "source": [
    "class Book:\n",
    "    def __init__(self, title, author, book_type, pages):\n",
    "        self.title = title\n",
    "        self.author = author\n",
    "        self.book_type = book_type\n",
    "        self.pages = pages\n",
    "    def __repr__(self):\n",
    "        return f\"Book('{self.title}', '{self.author}', '{self.book_type}', {self.pages})\"\n",
    "    def __eq__(self, other):\n",
    "        if not isinstance(other, Book):\n",
    "            return False\n",
    "        return self.title == other.title and self.author == other.author\n",
    "    def __gt__(self, other):\n",
    "        if not isinstance(other, Book):\n",
    "            return NotImplemented\n",
    "        \n",
    "        return self.pages > other.pages\n",
    "    def __hash__(self):\n",
    "        return hash((self.title,self.author))"
   ]
  },
  {
   "cell_type": "code",
   "execution_count": 8,
   "id": "0ab11b79",
   "metadata": {},
   "outputs": [],
   "source": [
    "from functools import total_ordering"
   ]
  },
  {
   "cell_type": "code",
   "execution_count": 9,
   "id": "3d247a6a",
   "metadata": {},
   "outputs": [],
   "source": [
    "Book = total_ordering(Book)"
   ]
  },
  {
   "cell_type": "code",
   "execution_count": 10,
   "id": "8eac97d7",
   "metadata": {},
   "outputs": [],
   "source": [
    "b = Book(\"Antifragile\", \"Nassim Taleb\", \"Hardcover\", 519)\n",
    "b1 = Book(\"How Asia Works\", \"Joe Studwell\", \"Paperback\", 472)"
   ]
  },
  {
   "cell_type": "code",
   "execution_count": 11,
   "id": "cf7ae56b",
   "metadata": {},
   "outputs": [
    {
     "data": {
      "text/plain": [
       "False"
      ]
     },
     "execution_count": 11,
     "metadata": {},
     "output_type": "execute_result"
    }
   ],
   "source": [
    "b == b1"
   ]
  },
  {
   "cell_type": "code",
   "execution_count": 12,
   "id": "99b90428",
   "metadata": {},
   "outputs": [
    {
     "data": {
      "text/plain": [
       "(True, False, True, True, False)"
      ]
     },
     "execution_count": 12,
     "metadata": {},
     "output_type": "execute_result"
    }
   ],
   "source": [
    "b >= b1, b <= b1, b != b1, b > b1,b < b1"
   ]
  },
  {
   "cell_type": "code",
   "execution_count": 14,
   "id": "10601a59",
   "metadata": {},
   "outputs": [],
   "source": [
    "from functools import total_ordering\n",
    "\n",
    "@total_ordering\n",
    "class Book:\n",
    "    def __init__(self, title, author, book_type, pages):\n",
    "        self.title = title\n",
    "        self.author = author\n",
    "        self.book_type = book_type\n",
    "        self.pages = pages\n",
    "    def __repr__(self):\n",
    "        return f\"Book('{self.title}', '{self.author}', '{self.book_type}', {self.pages})\"\n",
    "    def __eq__(self, other):\n",
    "        if not isinstance(other, Book):\n",
    "            return False\n",
    "        return self.title == other.title and self.author == other.author\n",
    "    def __gt__(self, other):\n",
    "        if not isinstance(other, Book):\n",
    "            return NotImplemented\n",
    "        \n",
    "        return self.pages > other.pages\n",
    "    def __hash__(self):\n",
    "        return hash((self.title,self.author))"
   ]
  },
  {
   "cell_type": "code",
   "execution_count": null,
   "id": "d2ec21a3",
   "metadata": {},
   "outputs": [],
   "source": []
  }
 ],
 "metadata": {
  "kernelspec": {
   "display_name": "Python 3 (ipykernel)",
   "language": "python",
   "name": "python3"
  },
  "language_info": {
   "codemirror_mode": {
    "name": "ipython",
    "version": 3
   },
   "file_extension": ".py",
   "mimetype": "text/x-python",
   "name": "python",
   "nbconvert_exporter": "python",
   "pygments_lexer": "ipython3",
   "version": "3.9.12"
  }
 },
 "nbformat": 4,
 "nbformat_minor": 5
}
