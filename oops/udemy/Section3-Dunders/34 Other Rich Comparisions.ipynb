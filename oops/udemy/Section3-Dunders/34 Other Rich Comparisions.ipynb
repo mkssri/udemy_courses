{
 "cells": [
  {
   "cell_type": "code",
   "execution_count": 1,
   "id": "57db2630",
   "metadata": {},
   "outputs": [],
   "source": [
    "class Book:\n",
    "    def __init__(self, title, author, book_type, pages):\n",
    "        self.title = title\n",
    "        self.author = author\n",
    "        self.book_type = book_type\n",
    "        self.pages = pages\n",
    "    def __repr__(self):\n",
    "        return f\"Book('{self.title}', '{self.author}', '{self.book_type}', {self.pages})\"\n",
    "    def __eq__(self, other):\n",
    "        if not isinstance(other, Book):\n",
    "            return False\n",
    "        return self.title == other.title and self.author == other.author\n",
    "    def __hash__(self):\n",
    "        return hash((self.title,self.author))"
   ]
  },
  {
   "cell_type": "code",
   "execution_count": 7,
   "id": "228881d1",
   "metadata": {},
   "outputs": [],
   "source": [
    "b = Book(\"Antifragile\", \"Nassim Taleb\", \"Hardcover\", 519)\n",
    "b1 = Book(\"How Asia Works\", \"Joe Studwell\", \"Paperback\", 472)"
   ]
  },
  {
   "cell_type": "code",
   "execution_count": 3,
   "id": "d46e73cd",
   "metadata": {},
   "outputs": [
    {
     "data": {
      "text/plain": [
       "False"
      ]
     },
     "execution_count": 3,
     "metadata": {},
     "output_type": "execute_result"
    }
   ],
   "source": [
    "b1 == b"
   ]
  },
  {
   "cell_type": "code",
   "execution_count": 4,
   "id": "58f8e6ca",
   "metadata": {},
   "outputs": [
    {
     "data": {
      "text/plain": [
       "True"
      ]
     },
     "execution_count": 4,
     "metadata": {},
     "output_type": "execute_result"
    }
   ],
   "source": [
    "b1 != b"
   ]
  },
  {
   "cell_type": "code",
   "execution_count": 5,
   "id": "9b7137cb",
   "metadata": {},
   "outputs": [
    {
     "ename": "TypeError",
     "evalue": "'>' not supported between instances of 'Book' and 'Book'",
     "output_type": "error",
     "traceback": [
      "\u001b[0;31m---------------------------------------------------------------------------\u001b[0m",
      "\u001b[0;31mTypeError\u001b[0m                                 Traceback (most recent call last)",
      "Cell \u001b[0;32mIn[5], line 1\u001b[0m\n\u001b[0;32m----> 1\u001b[0m \u001b[43mb\u001b[49m\u001b[43m \u001b[49m\u001b[38;5;241;43m>\u001b[39;49m\u001b[43m \u001b[49m\u001b[43mb1\u001b[49m\n",
      "\u001b[0;31mTypeError\u001b[0m: '>' not supported between instances of 'Book' and 'Book'"
     ]
    }
   ],
   "source": [
    "b > b1"
   ]
  },
  {
   "cell_type": "code",
   "execution_count": 10,
   "id": "b22c51d2",
   "metadata": {},
   "outputs": [],
   "source": [
    "class Book:\n",
    "    def __init__(self, title, author, book_type, pages):\n",
    "        self.title = title\n",
    "        self.author = author\n",
    "        self.book_type = book_type\n",
    "        self.pages = pages\n",
    "    def __repr__(self):\n",
    "        return f\"Book('{self.title}', '{self.author}', '{self.book_type}', {self.pages})\"\n",
    "    def __eq__(self, other):\n",
    "        if not isinstance(other, Book):\n",
    "            return False\n",
    "        return self.title == other.title and self.author == other.author\n",
    "    def __gt__(self, other):\n",
    "        if not isinstance(other, Book):\n",
    "            return NotImplemented\n",
    "        \n",
    "        return self.pages > other.pages\n",
    "    def __hash__(self):\n",
    "        return hash((self.title,self.author))"
   ]
  },
  {
   "cell_type": "code",
   "execution_count": 14,
   "id": "565b74e4",
   "metadata": {},
   "outputs": [],
   "source": [
    "b = Book(\"Antifragile\", \"Nassim Taleb\", \"Hardcover\", 519)\n",
    "b1 = Book(\"How Asia Works\", \"Joe Studwell\", \"Paperback\", 472)"
   ]
  },
  {
   "cell_type": "code",
   "execution_count": 9,
   "id": "9fa5f76e",
   "metadata": {},
   "outputs": [
    {
     "data": {
      "text/plain": [
       "True"
      ]
     },
     "execution_count": 9,
     "metadata": {},
     "output_type": "execute_result"
    }
   ],
   "source": [
    "b>b1"
   ]
  },
  {
   "cell_type": "code",
   "execution_count": 12,
   "id": "b02ed983",
   "metadata": {},
   "outputs": [
    {
     "ename": "TypeError",
     "evalue": "'>' not supported between instances of 'Book' and 'int'",
     "output_type": "error",
     "traceback": [
      "\u001b[0;31m---------------------------------------------------------------------------\u001b[0m",
      "\u001b[0;31mTypeError\u001b[0m                                 Traceback (most recent call last)",
      "Cell \u001b[0;32mIn[12], line 1\u001b[0m\n\u001b[0;32m----> 1\u001b[0m \u001b[43mb\u001b[49m\u001b[43m \u001b[49m\u001b[38;5;241;43m>\u001b[39;49m\u001b[43m \u001b[49m\u001b[38;5;241;43m4\u001b[39;49m\n",
      "\u001b[0;31mTypeError\u001b[0m: '>' not supported between instances of 'Book' and 'int'"
     ]
    }
   ],
   "source": [
    "b > 4"
   ]
  },
  {
   "cell_type": "code",
   "execution_count": 13,
   "id": "31a51101",
   "metadata": {},
   "outputs": [
    {
     "data": {
      "text/plain": [
       "False"
      ]
     },
     "execution_count": 13,
     "metadata": {},
     "output_type": "execute_result"
    }
   ],
   "source": [
    "b<b1"
   ]
  },
  {
   "cell_type": "code",
   "execution_count": 21,
   "id": "01abd3d0",
   "metadata": {},
   "outputs": [],
   "source": [
    "class Book:\n",
    "    def __init__(self, title, author, book_type, pages):\n",
    "        self.title = title\n",
    "        self.author = author\n",
    "        self.book_type = book_type\n",
    "        self.pages = pages\n",
    "    def __repr__(self):\n",
    "        return f\"Book('{self.title}', '{self.author}', '{self.book_type}', {self.pages})\"\n",
    "    def __eq__(self, other):\n",
    "        if not isinstance(other, Book):\n",
    "            return False\n",
    "        return self.title == other.title and self.author == other.author\n",
    "    def __gt__(self, other):\n",
    "        if not isinstance(other, Book):\n",
    "            return NotImplemented\n",
    "        \n",
    "        return self.pages > other.pages\n",
    "    def __ge__(self, other):\n",
    "        if not isinstance(other, Book):\n",
    "            return NotImplemented\n",
    "        \n",
    "        return self.pages >= other.pages\n",
    "    def __lt__(self, other):\n",
    "        if not isinstance(other, Book):\n",
    "            return NotImplemented\n",
    "        \n",
    "        return self.pages < other.pages\n",
    "    def __le__(self, other):\n",
    "        if not isinstance(other, Book):\n",
    "            return NotImplemented\n",
    "        \n",
    "        return self.pages <= other.pages\n",
    "    def __hash__(self):\n",
    "        return hash((self.title,self.author))"
   ]
  },
  {
   "cell_type": "code",
   "execution_count": 22,
   "id": "70a96587",
   "metadata": {},
   "outputs": [],
   "source": [
    "b = Book(\"Antifragile\", \"Nassim Taleb\", \"Hardcover\", 519)\n",
    "b1 = Book(\"How Asia Works\", \"Joe Studwell\", \"Paperback\", 472)"
   ]
  },
  {
   "cell_type": "code",
   "execution_count": 23,
   "id": "6b9b12dd",
   "metadata": {},
   "outputs": [
    {
     "data": {
      "text/plain": [
       "False"
      ]
     },
     "execution_count": 23,
     "metadata": {},
     "output_type": "execute_result"
    }
   ],
   "source": [
    "b < b1"
   ]
  },
  {
   "cell_type": "code",
   "execution_count": 24,
   "id": "f9c11116",
   "metadata": {},
   "outputs": [
    {
     "data": {
      "text/plain": [
       "False"
      ]
     },
     "execution_count": 24,
     "metadata": {},
     "output_type": "execute_result"
    }
   ],
   "source": [
    "b <= b1"
   ]
  },
  {
   "cell_type": "code",
   "execution_count": 25,
   "id": "e5ee8625",
   "metadata": {},
   "outputs": [
    {
     "data": {
      "text/plain": [
       "True"
      ]
     },
     "execution_count": 25,
     "metadata": {},
     "output_type": "execute_result"
    }
   ],
   "source": [
    "b >= b1"
   ]
  },
  {
   "cell_type": "code",
   "execution_count": null,
   "id": "c1626088",
   "metadata": {},
   "outputs": [],
   "source": []
  },
  {
   "cell_type": "code",
   "execution_count": null,
   "id": "317398e7",
   "metadata": {},
   "outputs": [],
   "source": []
  }
 ],
 "metadata": {
  "kernelspec": {
   "display_name": "Python 3 (ipykernel)",
   "language": "python",
   "name": "python3"
  },
  "language_info": {
   "codemirror_mode": {
    "name": "ipython",
    "version": 3
   },
   "file_extension": ".py",
   "mimetype": "text/x-python",
   "name": "python",
   "nbconvert_exporter": "python",
   "pygments_lexer": "ipython3",
   "version": "3.9.12"
  }
 },
 "nbformat": 4,
 "nbformat_minor": 5
}
