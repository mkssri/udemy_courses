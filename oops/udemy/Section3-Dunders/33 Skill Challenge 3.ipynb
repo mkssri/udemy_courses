{
 "cells": [
  {
   "cell_type": "code",
   "execution_count": 5,
   "id": "171cf35c",
   "metadata": {},
   "outputs": [
    {
     "name": "stdout",
     "output_type": "stream",
     "text": [
      "BA\n"
     ]
    },
    {
     "data": {
      "text/plain": [
       "Contact(name='An***', last_name='B**')"
      ]
     },
     "execution_count": 5,
     "metadata": {},
     "output_type": "execute_result"
    }
   ],
   "source": [
    "class Contact:\n",
    "    \n",
    "    def __init__(self, name, last_name, phone=None, email=None, display_mode=\"masked\"):\n",
    "        self.name = name\n",
    "        self.last_name = last_name\n",
    "        self.phone = phone\n",
    "        self.email = email\n",
    "        self.display_mode = display_mode\n",
    "        \n",
    "    def __eq__(self, other):\n",
    "        if not isinstance(other, Contact):\n",
    "            return False\n",
    "        if ( self.email is not None and self.email==other.email or \n",
    "             self.phone is not None and self.phone==other.phone ):\n",
    "            return True\n",
    "        \n",
    "        return self.name == other.name and self.last_name == other.last_name\n",
    "    \n",
    "    def __hash__(self):\n",
    "        return hash((self.name, self.last_name, self.phone, self.email))\n",
    "    \n",
    "    def __repr__(self):\n",
    "        if self.display_mode == \"masked\":\n",
    "            return f\"Contact(name='{self._obfuscate(self.name)}', last_name='{self._obfuscate(self.last_name)}')\"\n",
    "            \n",
    "        return f\"Contact(name='{self.name}', last_name='{self.last_name}', phone='{self.phone}', email='{self.email}')\"\n",
    "    \n",
    "    def __str__(self):\n",
    "        return self.last_name[0]+self.name[0]\n",
    "    \n",
    "    def __format__(self, format_spec):\n",
    "        if format_spec!=\"masked\":\n",
    "            return f\"Contact(name='{self.name}', last_name='{self.last_name}', phone='{self.phone}', email='{self.email}')\"\n",
    "        \n",
    "        return repr(self)\n",
    "            \n",
    "    \n",
    "    @staticmethod\n",
    "    def _obfuscate(text):\n",
    "        half_length = len(text)//2\n",
    "        return text[:half_length] + '*' * (half_length+1)\n",
    "    \n",
    "c1 = Contact(\"Andy\", \"Bek\")\n",
    "c2 = Contact(\"Andy\", \"Bek\", \"100\")\n",
    "c1 = Contact(\"Andy\", \"Bek\", email=\"hey@andybek.com\")\n",
    "print(c1)\n",
    "c1"
   ]
  },
  {
   "cell_type": "code",
   "execution_count": 6,
   "id": "628b59f7",
   "metadata": {},
   "outputs": [
    {
     "data": {
      "text/plain": [
       "True"
      ]
     },
     "execution_count": 6,
     "metadata": {},
     "output_type": "execute_result"
    }
   ],
   "source": [
    "c1==c2"
   ]
  },
  {
   "cell_type": "code",
   "execution_count": 7,
   "id": "a6a59a96",
   "metadata": {},
   "outputs": [
    {
     "data": {
      "text/plain": [
       "\"Contact(name='Andy', last_name='Bek', phone='None', email='hey@andybek.com')\""
      ]
     },
     "execution_count": 7,
     "metadata": {},
     "output_type": "execute_result"
    }
   ],
   "source": [
    "f\"{c1:unmasked}\""
   ]
  },
  {
   "cell_type": "code",
   "execution_count": 8,
   "id": "1699d681",
   "metadata": {},
   "outputs": [
    {
     "data": {
      "text/plain": [
       "\"Contact(name='An***', last_name='B**')\""
      ]
     },
     "execution_count": 8,
     "metadata": {},
     "output_type": "execute_result"
    }
   ],
   "source": [
    "f\"{c1:masked}\""
   ]
  },
  {
   "cell_type": "code",
   "execution_count": 9,
   "id": "9ad7764a",
   "metadata": {},
   "outputs": [],
   "source": [
    "c1.name = \"Andrew\""
   ]
  },
  {
   "cell_type": "code",
   "execution_count": 10,
   "id": "66324ae6",
   "metadata": {},
   "outputs": [
    {
     "data": {
      "text/plain": [
       "False"
      ]
     },
     "execution_count": 10,
     "metadata": {},
     "output_type": "execute_result"
    }
   ],
   "source": [
    "c1 == c2"
   ]
  },
  {
   "cell_type": "code",
   "execution_count": null,
   "id": "4b5eb89c",
   "metadata": {},
   "outputs": [],
   "source": []
  }
 ],
 "metadata": {
  "kernelspec": {
   "display_name": "Python 3 (ipykernel)",
   "language": "python",
   "name": "python3"
  },
  "language_info": {
   "codemirror_mode": {
    "name": "ipython",
    "version": 3
   },
   "file_extension": ".py",
   "mimetype": "text/x-python",
   "name": "python",
   "nbconvert_exporter": "python",
   "pygments_lexer": "ipython3",
   "version": "3.9.12"
  }
 },
 "nbformat": 4,
 "nbformat_minor": 5
}
