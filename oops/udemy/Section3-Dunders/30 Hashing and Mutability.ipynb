{
 "cells": [
  {
   "cell_type": "code",
   "execution_count": 1,
   "id": "2d23aab7",
   "metadata": {},
   "outputs": [],
   "source": [
    "# unhashable type"
   ]
  },
  {
   "cell_type": "code",
   "execution_count": 2,
   "id": "78ac9036",
   "metadata": {},
   "outputs": [],
   "source": [
    "l=[\"Andy\",7]"
   ]
  },
  {
   "cell_type": "code",
   "execution_count": 3,
   "id": "ec6cbd70",
   "metadata": {},
   "outputs": [
    {
     "ename": "TypeError",
     "evalue": "unhashable type: 'list'",
     "output_type": "error",
     "traceback": [
      "\u001b[0;31m---------------------------------------------------------------------------\u001b[0m",
      "\u001b[0;31mTypeError\u001b[0m                                 Traceback (most recent call last)",
      "Cell \u001b[0;32mIn[3], line 1\u001b[0m\n\u001b[0;32m----> 1\u001b[0m {l:\u001b[38;5;124m\"\u001b[39m\u001b[38;5;124mBek\u001b[39m\u001b[38;5;124m\"\u001b[39m}\n",
      "\u001b[0;31mTypeError\u001b[0m: unhashable type: 'list'"
     ]
    }
   ],
   "source": [
    "{l:\"Bek\"}"
   ]
  },
  {
   "cell_type": "code",
   "execution_count": 4,
   "id": "e1e27e1d",
   "metadata": {},
   "outputs": [
    {
     "ename": "TypeError",
     "evalue": "unhashable type: 'list'",
     "output_type": "error",
     "traceback": [
      "\u001b[0;31m---------------------------------------------------------------------------\u001b[0m",
      "\u001b[0;31mTypeError\u001b[0m                                 Traceback (most recent call last)",
      "Cell \u001b[0;32mIn[4], line 1\u001b[0m\n\u001b[0;32m----> 1\u001b[0m \u001b[38;5;28;43mhash\u001b[39;49m\u001b[43m(\u001b[49m\u001b[43ml\u001b[49m\u001b[43m)\u001b[49m\n",
      "\u001b[0;31mTypeError\u001b[0m: unhashable type: 'list'"
     ]
    }
   ],
   "source": [
    "hash(l)"
   ]
  },
  {
   "cell_type": "code",
   "execution_count": 5,
   "id": "7e891173",
   "metadata": {},
   "outputs": [],
   "source": [
    "name_str=\"Andy\"\n",
    "name_int=7\n",
    "both_tuple=(name_str,name_int)"
   ]
  },
  {
   "cell_type": "code",
   "execution_count": 6,
   "id": "1f6bde87",
   "metadata": {},
   "outputs": [
    {
     "data": {
      "text/plain": [
       "(2212113501491663538, 7, -5053294782750467464)"
      ]
     },
     "execution_count": 6,
     "metadata": {},
     "output_type": "execute_result"
    }
   ],
   "source": [
    "hash(name_str), hash(name_int), hash(both_tuple)"
   ]
  },
  {
   "cell_type": "code",
   "execution_count": 7,
   "id": "9b35d85e",
   "metadata": {},
   "outputs": [],
   "source": [
    "# Hashable object\n",
    "# could be compared to other objects\n",
    "# if it compares equal, shares the same hash with the other object\n",
    "# hash a hash value that never changes over its life"
   ]
  },
  {
   "cell_type": "code",
   "execution_count": 8,
   "id": "bbd894a6",
   "metadata": {},
   "outputs": [
    {
     "data": {
      "text/plain": [
       "4355891632"
      ]
     },
     "execution_count": 8,
     "metadata": {},
     "output_type": "execute_result"
    }
   ],
   "source": [
    "id(name_str)"
   ]
  },
  {
   "cell_type": "code",
   "execution_count": 9,
   "id": "0df00f8c",
   "metadata": {},
   "outputs": [],
   "source": [
    "name_str=\"Andy B\""
   ]
  },
  {
   "cell_type": "code",
   "execution_count": 10,
   "id": "ef7ef29d",
   "metadata": {},
   "outputs": [
    {
     "data": {
      "text/plain": [
       "4360525168"
      ]
     },
     "execution_count": 10,
     "metadata": {},
     "output_type": "execute_result"
    }
   ],
   "source": [
    "id(name_str)"
   ]
  },
  {
   "cell_type": "code",
   "execution_count": 11,
   "id": "a93e57da",
   "metadata": {},
   "outputs": [],
   "source": [
    "# GC -> garbage collector"
   ]
  },
  {
   "cell_type": "code",
   "execution_count": null,
   "id": "8990c93a",
   "metadata": {},
   "outputs": [],
   "source": []
  }
 ],
 "metadata": {
  "kernelspec": {
   "display_name": "Python 3 (ipykernel)",
   "language": "python",
   "name": "python3"
  },
  "language_info": {
   "codemirror_mode": {
    "name": "ipython",
    "version": 3
   },
   "file_extension": ".py",
   "mimetype": "text/x-python",
   "name": "python",
   "nbconvert_exporter": "python",
   "pygments_lexer": "ipython3",
   "version": "3.9.12"
  }
 },
 "nbformat": 4,
 "nbformat_minor": 5
}
