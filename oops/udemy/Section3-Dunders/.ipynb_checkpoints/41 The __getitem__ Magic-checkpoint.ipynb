{
 "cells": [
  {
   "cell_type": "code",
   "execution_count": 1,
   "id": "086707be",
   "metadata": {},
   "outputs": [],
   "source": [
    "from functools import total_ordering\n",
    "\n",
    "@total_ordering\n",
    "class Book:\n",
    "    def __init__(self, title, author, book_type, pages):\n",
    "        self.title = title\n",
    "        self.author = author\n",
    "        self.book_type = book_type\n",
    "        self.pages = pages\n",
    "    def __repr__(self):\n",
    "        return f\"Book('{self.title}', '{self.author}', '{self.book_type}', {self.pages})\"\n",
    "    def __eq__(self, other):\n",
    "        if not isinstance(other, Book):\n",
    "            return False\n",
    "        return self.title == other.title and self.author == other.author\n",
    "    def __gt__(self, other):\n",
    "        if not isinstance(other, Book):\n",
    "            return NotImplemented\n",
    "        \n",
    "        return self.pages > other.pages\n",
    "    def __hash__(self):\n",
    "        return hash((self.title,self.author))\n",
    "    def __len__(self):\n",
    "        return self.pages if self.pages>0 else 0\n",
    "\n",
    "class BookShelf:\n",
    "    def __init__(self, capacity):\n",
    "        self.books = []\n",
    "        self.capacity = capacity\n",
    "    \n",
    "    def add_book(self, book):\n",
    "        if not isinstance(book, Book):\n",
    "            raise TypeError(\"Only instances of Book could be added to the Bookshelf\")\n",
    "            \n",
    "        if not self.capacity > len(self.books):\n",
    "            raise OverflowError(\"BookShelf is full\")\n",
    "        \n",
    "        self.books.append(book)\n",
    "\n",
    "    def __add__(self, other):\n",
    "        if not isinstance(other, Book):\n",
    "            return TypeError(\"Operating only supported on instances of Book\")\n",
    "        \n",
    "        new_shelf = BookShelf( self.capacity )\n",
    "        for book in self.books:\n",
    "            new_shelf.add_book(book)\n",
    "        \n",
    "        new_shelf.add_book(other)\n",
    "        return new_shelf\n",
    "        \n",
    "    def __radd__(self, other):\n",
    "        if not isinstance(other, Book):\n",
    "            raise TypeError(\"Only instances of Book could be added to the Bookshelf\")\n",
    "        \n",
    "        return self+other\n",
    "        \n",
    "        \n",
    "    def __repr__(self):\n",
    "        return str(self.books)"
   ]
  },
  {
   "cell_type": "code",
   "execution_count": 2,
   "id": "fa52077d",
   "metadata": {},
   "outputs": [],
   "source": [
    "b1 = Book(\"Homo Empathicus\", \"Alexander Gorlach\", \"Paperback\", 160)\n",
    "b2 = Book(\"Titan\", \"Ron Chernow\", \"Hardcover\", 832)\n",
    "b3 = Book(\"The Circle\", \"Dave Eggers\", \"Paperback\", 497)\n",
    "b4 = Book(\"Homo Deus\", \"Yuval Noah Harari\", \"Paperback\", 464)"
   ]
  },
  {
   "cell_type": "code",
   "execution_count": 3,
   "id": "de88c71f",
   "metadata": {},
   "outputs": [],
   "source": [
    "shelf = BookShelf(10)"
   ]
  },
  {
   "cell_type": "code",
   "execution_count": 4,
   "id": "eb294a5e",
   "metadata": {},
   "outputs": [
    {
     "data": {
      "text/plain": [
       "[Book('Homo Empathicus', 'Alexander Gorlach', 'Paperback', 160), Book('Titan', 'Ron Chernow', 'Hardcover', 832), Book('The Circle', 'Dave Eggers', 'Paperback', 497), Book('Homo Deus', 'Yuval Noah Harari', 'Paperback', 464)]"
      ]
     },
     "execution_count": 4,
     "metadata": {},
     "output_type": "execute_result"
    }
   ],
   "source": [
    "for b in [b1,b2,b3,b4]:\n",
    "    shelf += b\n",
    "\n",
    "shelf"
   ]
  },
  {
   "cell_type": "code",
   "execution_count": 6,
   "id": "e018d4e0",
   "metadata": {},
   "outputs": [],
   "source": [
    "lst=[ i for i in range(10) ]"
   ]
  },
  {
   "cell_type": "code",
   "execution_count": 7,
   "id": "6f54d522",
   "metadata": {},
   "outputs": [
    {
     "data": {
      "text/plain": [
       "4"
      ]
     },
     "execution_count": 7,
     "metadata": {},
     "output_type": "execute_result"
    }
   ],
   "source": [
    "lst[4]"
   ]
  },
  {
   "cell_type": "code",
   "execution_count": 8,
   "id": "f44cfd79",
   "metadata": {},
   "outputs": [
    {
     "data": {
      "text/plain": [
       "[4, 5, 6, 7, 8, 9]"
      ]
     },
     "execution_count": 8,
     "metadata": {},
     "output_type": "execute_result"
    }
   ],
   "source": [
    "lst[4:]"
   ]
  },
  {
   "cell_type": "code",
   "execution_count": 9,
   "id": "fb1c6b6e",
   "metadata": {},
   "outputs": [],
   "source": [
    "# Bookshelf -> get_book()"
   ]
  },
  {
   "cell_type": "code",
   "execution_count": 10,
   "id": "7bec1beb",
   "metadata": {},
   "outputs": [
    {
     "ename": "TypeError",
     "evalue": "'BookShelf' object is not subscriptable",
     "output_type": "error",
     "traceback": [
      "\u001b[0;31m---------------------------------------------------------------------------\u001b[0m",
      "\u001b[0;31mTypeError\u001b[0m                                 Traceback (most recent call last)",
      "Cell \u001b[0;32mIn[10], line 1\u001b[0m\n\u001b[0;32m----> 1\u001b[0m \u001b[43mshelf\u001b[49m\u001b[43m[\u001b[49m\u001b[38;5;241;43m0\u001b[39;49m\u001b[43m]\u001b[49m\n",
      "\u001b[0;31mTypeError\u001b[0m: 'BookShelf' object is not subscriptable"
     ]
    }
   ],
   "source": [
    "shelf[0]"
   ]
  },
  {
   "cell_type": "code",
   "execution_count": 12,
   "id": "2cf84df7",
   "metadata": {},
   "outputs": [],
   "source": [
    "from functools import total_ordering\n",
    "\n",
    "@total_ordering\n",
    "class Book:\n",
    "    def __init__(self, title, author, book_type, pages):\n",
    "        self.title = title\n",
    "        self.author = author\n",
    "        self.book_type = book_type\n",
    "        self.pages = pages\n",
    "    def __repr__(self):\n",
    "        return f\"Book('{self.title}', '{self.author}', '{self.book_type}', {self.pages})\"\n",
    "    def __eq__(self, other):\n",
    "        if not isinstance(other, Book):\n",
    "            return False\n",
    "        return self.title == other.title and self.author == other.author\n",
    "    def __gt__(self, other):\n",
    "        if not isinstance(other, Book):\n",
    "            return NotImplemented\n",
    "        \n",
    "        return self.pages > other.pages\n",
    "    def __hash__(self):\n",
    "        return hash((self.title,self.author))\n",
    "    def __len__(self):\n",
    "        return self.pages if self.pages>0 else 0\n",
    "\n",
    "class BookShelf:\n",
    "    def __init__(self, capacity):\n",
    "        self.books = []\n",
    "        self.capacity = capacity\n",
    "    \n",
    "    def add_book(self, book):\n",
    "        if not isinstance(book, Book):\n",
    "            raise TypeError(\"Only instances of Book could be added to the Bookshelf\")\n",
    "            \n",
    "        if not self.capacity > len(self.books):\n",
    "            raise OverflowError(\"BookShelf is full\")\n",
    "        \n",
    "        self.books.append(book)\n",
    "\n",
    "    def __add__(self, other):\n",
    "        if not isinstance(other, Book):\n",
    "            return TypeError(\"Operating only supported on instances of Book\")\n",
    "        \n",
    "        new_shelf = BookShelf( self.capacity )\n",
    "        for book in self.books:\n",
    "            new_shelf.add_book(book)\n",
    "        \n",
    "        new_shelf.add_book(other)\n",
    "        return new_shelf\n",
    "        \n",
    "    def __radd__(self, other):\n",
    "        if not isinstance(other, Book):\n",
    "            raise TypeError(\"Only instances of Book could be added to the Bookshelf\")\n",
    "        \n",
    "        return self+other\n",
    "        \n",
    "        \n",
    "    def __repr__(self):\n",
    "        return str(self.books)\n",
    "    \n",
    "    def __getitem__(self, item):\n",
    "        return self.books[item]"
   ]
  },
  {
   "cell_type": "code",
   "execution_count": 13,
   "id": "fdd0db5d",
   "metadata": {},
   "outputs": [],
   "source": [
    "b1 = Book(\"Homo Empathicus\", \"Alexander Gorlach\", \"Paperback\", 160)\n",
    "b2 = Book(\"Titan\", \"Ron Chernow\", \"Hardcover\", 832)\n",
    "b3 = Book(\"The Circle\", \"Dave Eggers\", \"Paperback\", 497)\n",
    "b4 = Book(\"Homo Deus\", \"Yuval Noah Harari\", \"Paperback\", 464)"
   ]
  },
  {
   "cell_type": "code",
   "execution_count": 14,
   "id": "b64a2120",
   "metadata": {},
   "outputs": [],
   "source": [
    "shelf = BookShelf(10)"
   ]
  },
  {
   "cell_type": "code",
   "execution_count": 15,
   "id": "092808f5",
   "metadata": {},
   "outputs": [],
   "source": [
    "shelf.add_book(b1)\n",
    "shelf.add_book(b2)"
   ]
  },
  {
   "cell_type": "code",
   "execution_count": 16,
   "id": "a642a679",
   "metadata": {},
   "outputs": [
    {
     "data": {
      "text/plain": [
       "[Book('Homo Empathicus', 'Alexander Gorlach', 'Paperback', 160), Book('Titan', 'Ron Chernow', 'Hardcover', 832)]"
      ]
     },
     "execution_count": 16,
     "metadata": {},
     "output_type": "execute_result"
    }
   ],
   "source": [
    "shelf"
   ]
  },
  {
   "cell_type": "code",
   "execution_count": 17,
   "id": "6c1cd68b",
   "metadata": {},
   "outputs": [
    {
     "data": {
      "text/plain": [
       "Book('Homo Empathicus', 'Alexander Gorlach', 'Paperback', 160)"
      ]
     },
     "execution_count": 17,
     "metadata": {},
     "output_type": "execute_result"
    }
   ],
   "source": [
    "shelf[0]"
   ]
  },
  {
   "cell_type": "code",
   "execution_count": 18,
   "id": "6c1ab95d",
   "metadata": {},
   "outputs": [
    {
     "ename": "TypeError",
     "evalue": "list indices must be integers or slices, not str",
     "output_type": "error",
     "traceback": [
      "\u001b[0;31m---------------------------------------------------------------------------\u001b[0m",
      "\u001b[0;31mTypeError\u001b[0m                                 Traceback (most recent call last)",
      "Cell \u001b[0;32mIn[18], line 1\u001b[0m\n\u001b[0;32m----> 1\u001b[0m \u001b[43mshelf\u001b[49m\u001b[43m[\u001b[49m\u001b[38;5;124;43m\"\u001b[39;49m\u001b[38;5;124;43mHomo\u001b[39;49m\u001b[38;5;124;43m\"\u001b[39;49m\u001b[43m]\u001b[49m\n",
      "Cell \u001b[0;32mIn[12], line 62\u001b[0m, in \u001b[0;36mBookShelf.__getitem__\u001b[0;34m(self, item)\u001b[0m\n\u001b[1;32m     61\u001b[0m \u001b[38;5;28;01mdef\u001b[39;00m \u001b[38;5;21m__getitem__\u001b[39m(\u001b[38;5;28mself\u001b[39m, item):\n\u001b[0;32m---> 62\u001b[0m     \u001b[38;5;28;01mreturn\u001b[39;00m \u001b[38;5;28;43mself\u001b[39;49m\u001b[38;5;241;43m.\u001b[39;49m\u001b[43mbooks\u001b[49m\u001b[43m[\u001b[49m\u001b[43mitem\u001b[49m\u001b[43m]\u001b[49m\n",
      "\u001b[0;31mTypeError\u001b[0m: list indices must be integers or slices, not str"
     ]
    }
   ],
   "source": [
    "shelf[\"Homo\"]"
   ]
  },
  {
   "cell_type": "code",
   "execution_count": 23,
   "id": "8d3b4710",
   "metadata": {},
   "outputs": [],
   "source": [
    "class BookShelf:\n",
    "    def __init__(self, capacity):\n",
    "        self.books = []\n",
    "        self.capacity = capacity\n",
    "    \n",
    "    def add_book(self, book):\n",
    "        if not isinstance(book, Book):\n",
    "            raise TypeError(\"Only instances of Book could be added to the Bookshelf\")\n",
    "            \n",
    "        if not self.capacity > len(self.books):\n",
    "            raise OverflowError(\"BookShelf is full\")\n",
    "        \n",
    "        self.books.append(book)\n",
    "\n",
    "    def __add__(self, other):\n",
    "        if not isinstance(other, Book):\n",
    "            return TypeError(\"Operating only supported on instances of Book\")\n",
    "        \n",
    "        new_shelf = BookShelf( self.capacity )\n",
    "        for book in self.books:\n",
    "            new_shelf.add_book(book)\n",
    "        \n",
    "        new_shelf.add_book(other)\n",
    "        return new_shelf\n",
    "        \n",
    "    def __radd__(self, other):\n",
    "        if not isinstance(other, Book):\n",
    "            raise TypeError(\"Only instances of Book could be added to the Bookshelf\")\n",
    "        \n",
    "        return self+other\n",
    "        \n",
    "        \n",
    "    def __repr__(self):\n",
    "        return str(self.books)\n",
    "    \n",
    "    def __getitem__(self, item):\n",
    "        if isinstance(item, str):\n",
    "            return [ book for book in self.books if item in book.title ]\n",
    "        return self.books[item]"
   ]
  },
  {
   "cell_type": "code",
   "execution_count": 24,
   "id": "b42e31d4",
   "metadata": {},
   "outputs": [],
   "source": [
    "b1 = Book(\"Homo Empathicus\", \"Alexander Gorlach\", \"Paperback\", 160)\n",
    "b2 = Book(\"Titan\", \"Ron Chernow\", \"Hardcover\", 832)\n",
    "b3 = Book(\"The Circle\", \"Dave Eggers\", \"Paperback\", 497)\n",
    "b4 = Book(\"Homo Deus\", \"Yuval Noah Harari\", \"Paperback\", 464)"
   ]
  },
  {
   "cell_type": "code",
   "execution_count": 27,
   "id": "311cd730",
   "metadata": {},
   "outputs": [],
   "source": [
    "shelf = BookShelf(10)"
   ]
  },
  {
   "cell_type": "code",
   "execution_count": 29,
   "id": "6c20167b",
   "metadata": {},
   "outputs": [],
   "source": [
    "shelf += b1\n",
    "shelf += b2\n",
    "shelf += b3\n",
    "shelf += b4"
   ]
  },
  {
   "cell_type": "code",
   "execution_count": 30,
   "id": "7d068cc9",
   "metadata": {},
   "outputs": [
    {
     "data": {
      "text/plain": [
       "[Book('Homo Empathicus', 'Alexander Gorlach', 'Paperback', 160), Book('Homo Empathicus', 'Alexander Gorlach', 'Paperback', 160), Book('Titan', 'Ron Chernow', 'Hardcover', 832), Book('The Circle', 'Dave Eggers', 'Paperback', 497), Book('Homo Deus', 'Yuval Noah Harari', 'Paperback', 464)]"
      ]
     },
     "execution_count": 30,
     "metadata": {},
     "output_type": "execute_result"
    }
   ],
   "source": [
    "shelf"
   ]
  },
  {
   "cell_type": "code",
   "execution_count": null,
   "id": "392b8b2c",
   "metadata": {},
   "outputs": [],
   "source": []
  }
 ],
 "metadata": {
  "kernelspec": {
   "display_name": "Python 3 (ipykernel)",
   "language": "python",
   "name": "python3"
  },
  "language_info": {
   "codemirror_mode": {
    "name": "ipython",
    "version": 3
   },
   "file_extension": ".py",
   "mimetype": "text/x-python",
   "name": "python",
   "nbconvert_exporter": "python",
   "pygments_lexer": "ipython3",
   "version": "3.9.12"
  }
 },
 "nbformat": 4,
 "nbformat_minor": 5
}
