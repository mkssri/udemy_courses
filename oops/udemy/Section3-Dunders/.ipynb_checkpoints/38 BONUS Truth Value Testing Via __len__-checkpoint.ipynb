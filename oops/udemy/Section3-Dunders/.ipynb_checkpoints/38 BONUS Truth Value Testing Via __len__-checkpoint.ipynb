{
 "cells": [
  {
   "cell_type": "code",
   "execution_count": 1,
   "id": "d305dbdc",
   "metadata": {},
   "outputs": [],
   "source": [
    "from functools import total_ordering\n",
    "\n",
    "@total_ordering\n",
    "class Book:\n",
    "    def __init__(self, title, author, book_type, pages):\n",
    "        self.title = title\n",
    "        self.author = author\n",
    "        self.book_type = book_type\n",
    "        self.pages = pages\n",
    "    def __repr__(self):\n",
    "        return f\"Book('{self.title}', '{self.author}', '{self.book_type}', {self.pages})\"\n",
    "    def __eq__(self, other):\n",
    "        if not isinstance(other, Book):\n",
    "            return False\n",
    "        return self.title == other.title and self.author == other.author\n",
    "    def __gt__(self, other):\n",
    "        if not isinstance(other, Book):\n",
    "            return NotImplemented\n",
    "        \n",
    "        return self.pages > other.pages\n",
    "    def __hash__(self):\n",
    "        return hash((self.title,self.author))\n",
    "    def __bool__(self):\n",
    "        return bool(self.pages) and not (self.pages<1)\n",
    "#     def __len__(self):\n",
    "#         return self.pages"
   ]
  },
  {
   "cell_type": "code",
   "execution_count": 2,
   "id": "f63ac13a",
   "metadata": {},
   "outputs": [],
   "source": [
    "b_zero = Book(\"Antifragile\", \"Nassim Taleb\", \"Hardcover\", 0)"
   ]
  },
  {
   "cell_type": "code",
   "execution_count": 3,
   "id": "9d64073a",
   "metadata": {},
   "outputs": [
    {
     "ename": "TypeError",
     "evalue": "object of type 'Book' has no len()",
     "output_type": "error",
     "traceback": [
      "\u001b[0;31m---------------------------------------------------------------------------\u001b[0m",
      "\u001b[0;31mTypeError\u001b[0m                                 Traceback (most recent call last)",
      "Cell \u001b[0;32mIn[3], line 1\u001b[0m\n\u001b[0;32m----> 1\u001b[0m \u001b[38;5;28;43mlen\u001b[39;49m\u001b[43m(\u001b[49m\u001b[43mb_zero\u001b[49m\u001b[43m)\u001b[49m\n",
      "\u001b[0;31mTypeError\u001b[0m: object of type 'Book' has no len()"
     ]
    }
   ],
   "source": [
    "len(b_zero)"
   ]
  },
  {
   "cell_type": "code",
   "execution_count": 7,
   "id": "a9fb3928",
   "metadata": {},
   "outputs": [],
   "source": [
    "from functools import total_ordering\n",
    "\n",
    "@total_ordering\n",
    "class Book:\n",
    "    def __init__(self, title, author, book_type, pages):\n",
    "        self.title = title\n",
    "        self.author = author\n",
    "        self.book_type = book_type\n",
    "        self.pages = pages\n",
    "    def __repr__(self):\n",
    "        return f\"Book('{self.title}', '{self.author}', '{self.book_type}', {self.pages})\"\n",
    "    def __eq__(self, other):\n",
    "        if not isinstance(other, Book):\n",
    "            return False\n",
    "        return self.title == other.title and self.author == other.author\n",
    "    def __gt__(self, other):\n",
    "        if not isinstance(other, Book):\n",
    "            return NotImplemented\n",
    "        \n",
    "        return self.pages > other.pages\n",
    "    def __hash__(self):\n",
    "        return hash((self.title,self.author))\n",
    "    def __bool__(self):\n",
    "        return bool(self.pages) and not (self.pages<1)\n",
    "    def __len__(self):\n",
    "        return self.pages"
   ]
  },
  {
   "cell_type": "code",
   "execution_count": 8,
   "id": "e35eda50",
   "metadata": {},
   "outputs": [],
   "source": [
    "b_zero = Book(\"Antifragile\", \"Nassim Taleb\", \"Hardcover\", 0)"
   ]
  },
  {
   "cell_type": "code",
   "execution_count": 9,
   "id": "2d1b4293",
   "metadata": {},
   "outputs": [
    {
     "data": {
      "text/plain": [
       "0"
      ]
     },
     "execution_count": 9,
     "metadata": {},
     "output_type": "execute_result"
    }
   ],
   "source": [
    "len(b_zero)"
   ]
  },
  {
   "cell_type": "code",
   "execution_count": 10,
   "id": "bdf0bb35",
   "metadata": {},
   "outputs": [],
   "source": [
    "# __len__ and __bool__ works together.. if __bool__ is not defined python looks for __len__"
   ]
  },
  {
   "cell_type": "code",
   "execution_count": 14,
   "id": "fe0bccbe",
   "metadata": {},
   "outputs": [],
   "source": [
    "from functools import total_ordering\n",
    "\n",
    "@total_ordering\n",
    "class Book:\n",
    "    def __init__(self, title, author, book_type, pages):\n",
    "        self.title = title\n",
    "        self.author = author\n",
    "        self.book_type = book_type\n",
    "        self.pages = pages\n",
    "    def __repr__(self):\n",
    "        return f\"Book('{self.title}', '{self.author}', '{self.book_type}', {self.pages})\"\n",
    "    def __eq__(self, other):\n",
    "        if not isinstance(other, Book):\n",
    "            return False\n",
    "        return self.title == other.title and self.author == other.author\n",
    "    def __gt__(self, other):\n",
    "        if not isinstance(other, Book):\n",
    "            return NotImplemented\n",
    "        \n",
    "        return self.pages > other.pages\n",
    "    def __hash__(self):\n",
    "        return hash((self.title,self.author))\n",
    "#     def __bool__(self):\n",
    "#         return bool(self.pages) and not (self.pages<1)\n",
    "    def __len__(self):\n",
    "        return self.pages"
   ]
  },
  {
   "cell_type": "code",
   "execution_count": 17,
   "id": "f44b4b50",
   "metadata": {},
   "outputs": [],
   "source": [
    "b_zero = Book(\"Antifragile\", \"Nassim Taleb\", \"Hardcover\", 0)\n",
    "b_neg = Book(\"Antifragile\", \"Nassim Taleb\", \"Hardcover\", -10)\n",
    "b_pos = Book(\"Antifragile\", \"Nassim Taleb\", \"Hardcover\", 100)"
   ]
  },
  {
   "cell_type": "code",
   "execution_count": 18,
   "id": "5d298019",
   "metadata": {},
   "outputs": [
    {
     "data": {
      "text/plain": [
       "False"
      ]
     },
     "execution_count": 18,
     "metadata": {},
     "output_type": "execute_result"
    }
   ],
   "source": [
    "bool(b_zero)"
   ]
  },
  {
   "cell_type": "code",
   "execution_count": 19,
   "id": "812acc8b",
   "metadata": {},
   "outputs": [
    {
     "ename": "ValueError",
     "evalue": "__len__() should return >= 0",
     "output_type": "error",
     "traceback": [
      "\u001b[0;31m---------------------------------------------------------------------------\u001b[0m",
      "\u001b[0;31mValueError\u001b[0m                                Traceback (most recent call last)",
      "Cell \u001b[0;32mIn[19], line 1\u001b[0m\n\u001b[0;32m----> 1\u001b[0m \u001b[38;5;28;43mlen\u001b[39;49m\u001b[43m(\u001b[49m\u001b[43mb_neg\u001b[49m\u001b[43m)\u001b[49m\n",
      "\u001b[0;31mValueError\u001b[0m: __len__() should return >= 0"
     ]
    }
   ],
   "source": [
    "len(b_neg)"
   ]
  },
  {
   "cell_type": "code",
   "execution_count": 20,
   "id": "5a64c2b8",
   "metadata": {},
   "outputs": [],
   "source": [
    "import sys"
   ]
  },
  {
   "cell_type": "code",
   "execution_count": 21,
   "id": "62a69259",
   "metadata": {},
   "outputs": [
    {
     "data": {
      "text/plain": [
       "9223372036854775807"
      ]
     },
     "execution_count": 21,
     "metadata": {},
     "output_type": "execute_result"
    }
   ],
   "source": [
    "sys.maxsize"
   ]
  },
  {
   "cell_type": "code",
   "execution_count": 22,
   "id": "565f61d9",
   "metadata": {},
   "outputs": [],
   "source": [
    "from functools import total_ordering\n",
    "\n",
    "@total_ordering\n",
    "class Book:\n",
    "    def __init__(self, title, author, book_type, pages):\n",
    "        self.title = title\n",
    "        self.author = author\n",
    "        self.book_type = book_type\n",
    "        self.pages = pages\n",
    "    def __repr__(self):\n",
    "        return f\"Book('{self.title}', '{self.author}', '{self.book_type}', {self.pages})\"\n",
    "    def __eq__(self, other):\n",
    "        if not isinstance(other, Book):\n",
    "            return False\n",
    "        return self.title == other.title and self.author == other.author\n",
    "    def __gt__(self, other):\n",
    "        if not isinstance(other, Book):\n",
    "            return NotImplemented\n",
    "        \n",
    "        return self.pages > other.pages\n",
    "    def __hash__(self):\n",
    "        return hash((self.title,self.author))\n",
    "    def __len__(self):\n",
    "        return self.pages if self.pages>0 else 0"
   ]
  },
  {
   "cell_type": "code",
   "execution_count": 23,
   "id": "4892d9ee",
   "metadata": {},
   "outputs": [],
   "source": [
    "b_zero = Book(\"Antifragile\", \"Nassim Taleb\", \"Hardcover\", 0)\n",
    "b_neg = Book(\"Antifragile\", \"Nassim Taleb\", \"Hardcover\", -10)\n",
    "b_pos = Book(\"Antifragile\", \"Nassim Taleb\", \"Hardcover\", 100)"
   ]
  },
  {
   "cell_type": "code",
   "execution_count": null,
   "id": "dcaa7d13",
   "metadata": {},
   "outputs": [],
   "source": []
  }
 ],
 "metadata": {
  "kernelspec": {
   "display_name": "Python 3 (ipykernel)",
   "language": "python",
   "name": "python3"
  },
  "language_info": {
   "codemirror_mode": {
    "name": "ipython",
    "version": 3
   },
   "file_extension": ".py",
   "mimetype": "text/x-python",
   "name": "python",
   "nbconvert_exporter": "python",
   "pygments_lexer": "ipython3",
   "version": "3.9.12"
  }
 },
 "nbformat": 4,
 "nbformat_minor": 5
}
