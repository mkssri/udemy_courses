{
 "cells": [
  {
   "cell_type": "code",
   "execution_count": 1,
   "id": "9fe83156",
   "metadata": {},
   "outputs": [],
   "source": [
    "from functools import total_ordering\n",
    "\n",
    "@total_ordering\n",
    "class Book:\n",
    "    def __init__(self, title, author, book_type, pages):\n",
    "        self.title = title\n",
    "        self.author = author\n",
    "        self.book_type = book_type\n",
    "        self.pages = pages\n",
    "    def __repr__(self):\n",
    "        return f\"Book('{self.title}', '{self.author}', '{self.book_type}', {self.pages})\"\n",
    "    def __eq__(self, other):\n",
    "        if not isinstance(other, Book):\n",
    "            return False\n",
    "        return self.title == other.title and self.author == other.author\n",
    "    def __gt__(self, other):\n",
    "        if not isinstance(other, Book):\n",
    "            return NotImplemented\n",
    "        \n",
    "        return self.pages > other.pages\n",
    "    def __hash__(self):\n",
    "        return hash((self.title,self.author))\n",
    "    def __len__(self):\n",
    "        return self.pages if self.pages>0 else 0\n",
    "\n",
    "class BookShelf:\n",
    "    def __init__(self, capacity):\n",
    "        self.books = []\n",
    "        self.capacity = capacity\n",
    "    \n",
    "    def add_book(self, book):\n",
    "        if not isinstance(book, Book):\n",
    "            raise TypeError(\"Only instances of Book could be added to the Bookshelf\")\n",
    "            \n",
    "        if not self.capacity > len(self.books):\n",
    "            raise OverflowError(\"BookShelf is full\")\n",
    "        \n",
    "        self.books.append(book)\n",
    "\n",
    "    def __add__(self, other):\n",
    "        if not isinstance(other, Book):\n",
    "            return TypeError(\"Operating only supported on instances of Book\")\n",
    "        \n",
    "        new_shelf = BookShelf( self.capacity )\n",
    "        for book in self.books:\n",
    "            new_shelf.add_book(book)\n",
    "        \n",
    "        new_shelf.add_book(other)\n",
    "        return new_shelf\n",
    "        \n",
    "    def __radd__(self, other):\n",
    "        if not isinstance(other, Book):\n",
    "            raise TypeError(\"Only instances of Book could be added to the Bookshelf\")\n",
    "        \n",
    "        return self+other\n",
    "        \n",
    "        \n",
    "    def __repr__(self):\n",
    "        return str(self.books)"
   ]
  },
  {
   "cell_type": "code",
   "execution_count": 2,
   "id": "662a2261",
   "metadata": {},
   "outputs": [],
   "source": [
    "b1 = Book(\"Homo Empathicus\", \"Alexander Gorlach\", \"Paperback\", 160)\n",
    "b2 = Book(\"Titan\", \"Ron Chernow\", \"Hardcover\", 832)\n",
    "b3 = Book(\"The Circle\", \"Dave Eggers\", \"Paperback\", 497)\n",
    "b4 = Book(\"Homo Deus\", \"Yuval Noah Harari\", \"Paperback\", 464)"
   ]
  },
  {
   "cell_type": "code",
   "execution_count": 3,
   "id": "4c732317",
   "metadata": {},
   "outputs": [],
   "source": [
    "shelf = BookShelf(10)"
   ]
  },
  {
   "cell_type": "code",
   "execution_count": 4,
   "id": "3a870be2",
   "metadata": {},
   "outputs": [
    {
     "data": {
      "text/plain": [
       "[Book('Homo Empathicus', 'Alexander Gorlach', 'Paperback', 160), Book('Titan', 'Ron Chernow', 'Hardcover', 832), Book('The Circle', 'Dave Eggers', 'Paperback', 497), Book('Homo Deus', 'Yuval Noah Harari', 'Paperback', 464)]"
      ]
     },
     "execution_count": 4,
     "metadata": {},
     "output_type": "execute_result"
    }
   ],
   "source": [
    "for b in [b1,b2,b3,b4]:\n",
    "    shelf += b\n",
    "\n",
    "shelf"
   ]
  },
  {
   "cell_type": "code",
   "execution_count": 6,
   "id": "f9a0057e",
   "metadata": {},
   "outputs": [],
   "source": [
    "lst=[ i for i in range(10) ]"
   ]
  },
  {
   "cell_type": "code",
   "execution_count": 7,
   "id": "c90f01cf",
   "metadata": {},
   "outputs": [
    {
     "data": {
      "text/plain": [
       "4"
      ]
     },
     "execution_count": 7,
     "metadata": {},
     "output_type": "execute_result"
    }
   ],
   "source": [
    "lst[4]"
   ]
  },
  {
   "cell_type": "code",
   "execution_count": 8,
   "id": "488066ba",
   "metadata": {},
   "outputs": [
    {
     "data": {
      "text/plain": [
       "[4, 5, 6, 7, 8, 9]"
      ]
     },
     "execution_count": 8,
     "metadata": {},
     "output_type": "execute_result"
    }
   ],
   "source": [
    "lst[4:]"
   ]
  },
  {
   "cell_type": "code",
   "execution_count": 9,
   "id": "c88ca1f6",
   "metadata": {},
   "outputs": [],
   "source": [
    "# Bookshelf -> get_book()"
   ]
  },
  {
   "cell_type": "code",
   "execution_count": 10,
   "id": "b1bda275",
   "metadata": {},
   "outputs": [
    {
     "ename": "TypeError",
     "evalue": "'BookShelf' object is not subscriptable",
     "output_type": "error",
     "traceback": [
      "\u001b[0;31m---------------------------------------------------------------------------\u001b[0m",
      "\u001b[0;31mTypeError\u001b[0m                                 Traceback (most recent call last)",
      "Cell \u001b[0;32mIn[10], line 1\u001b[0m\n\u001b[0;32m----> 1\u001b[0m \u001b[43mshelf\u001b[49m\u001b[43m[\u001b[49m\u001b[38;5;241;43m0\u001b[39;49m\u001b[43m]\u001b[49m\n",
      "\u001b[0;31mTypeError\u001b[0m: 'BookShelf' object is not subscriptable"
     ]
    }
   ],
   "source": [
    "shelf[0]"
   ]
  },
  {
   "cell_type": "code",
   "execution_count": 12,
   "id": "915b1e1a",
   "metadata": {},
   "outputs": [],
   "source": [
    "from functools import total_ordering\n",
    "\n",
    "@total_ordering\n",
    "class Book:\n",
    "    def __init__(self, title, author, book_type, pages):\n",
    "        self.title = title\n",
    "        self.author = author\n",
    "        self.book_type = book_type\n",
    "        self.pages = pages\n",
    "    def __repr__(self):\n",
    "        return f\"Book('{self.title}', '{self.author}', '{self.book_type}', {self.pages})\"\n",
    "    def __eq__(self, other):\n",
    "        if not isinstance(other, Book):\n",
    "            return False\n",
    "        return self.title == other.title and self.author == other.author\n",
    "    def __gt__(self, other):\n",
    "        if not isinstance(other, Book):\n",
    "            return NotImplemented\n",
    "        \n",
    "        return self.pages > other.pages\n",
    "    def __hash__(self):\n",
    "        return hash((self.title,self.author))\n",
    "    def __len__(self):\n",
    "        return self.pages if self.pages>0 else 0\n",
    "\n",
    "class BookShelf:\n",
    "    def __init__(self, capacity):\n",
    "        self.books = []\n",
    "        self.capacity = capacity\n",
    "    \n",
    "    def add_book(self, book):\n",
    "        if not isinstance(book, Book):\n",
    "            raise TypeError(\"Only instances of Book could be added to the Bookshelf\")\n",
    "            \n",
    "        if not self.capacity > len(self.books):\n",
    "            raise OverflowError(\"BookShelf is full\")\n",
    "        \n",
    "        self.books.append(book)\n",
    "\n",
    "    def __add__(self, other):\n",
    "        if not isinstance(other, Book):\n",
    "            return TypeError(\"Operating only supported on instances of Book\")\n",
    "        \n",
    "        new_shelf = BookShelf( self.capacity )\n",
    "        for book in self.books:\n",
    "            new_shelf.add_book(book)\n",
    "        \n",
    "        new_shelf.add_book(other)\n",
    "        return new_shelf\n",
    "        \n",
    "    def __radd__(self, other):\n",
    "        if not isinstance(other, Book):\n",
    "            raise TypeError(\"Only instances of Book could be added to the Bookshelf\")\n",
    "        \n",
    "        return self+other\n",
    "        \n",
    "        \n",
    "    def __repr__(self):\n",
    "        return str(self.books)\n",
    "    \n",
    "    def __getitem__(self, item):\n",
    "        return self.books[item]"
   ]
  },
  {
   "cell_type": "code",
   "execution_count": 13,
   "id": "ac74a6cc",
   "metadata": {},
   "outputs": [],
   "source": [
    "b1 = Book(\"Homo Empathicus\", \"Alexander Gorlach\", \"Paperback\", 160)\n",
    "b2 = Book(\"Titan\", \"Ron Chernow\", \"Hardcover\", 832)\n",
    "b3 = Book(\"The Circle\", \"Dave Eggers\", \"Paperback\", 497)\n",
    "b4 = Book(\"Homo Deus\", \"Yuval Noah Harari\", \"Paperback\", 464)"
   ]
  },
  {
   "cell_type": "code",
   "execution_count": 14,
   "id": "9f9c4a2b",
   "metadata": {},
   "outputs": [],
   "source": [
    "shelf = BookShelf(10)"
   ]
  },
  {
   "cell_type": "code",
   "execution_count": 15,
   "id": "c3268a33",
   "metadata": {},
   "outputs": [],
   "source": [
    "shelf.add_book(b1)\n",
    "shelf.add_book(b2)"
   ]
  },
  {
   "cell_type": "code",
   "execution_count": 16,
   "id": "92c565fe",
   "metadata": {},
   "outputs": [
    {
     "data": {
      "text/plain": [
       "[Book('Homo Empathicus', 'Alexander Gorlach', 'Paperback', 160), Book('Titan', 'Ron Chernow', 'Hardcover', 832)]"
      ]
     },
     "execution_count": 16,
     "metadata": {},
     "output_type": "execute_result"
    }
   ],
   "source": [
    "shelf"
   ]
  },
  {
   "cell_type": "code",
   "execution_count": 17,
   "id": "2a504ece",
   "metadata": {},
   "outputs": [
    {
     "data": {
      "text/plain": [
       "Book('Homo Empathicus', 'Alexander Gorlach', 'Paperback', 160)"
      ]
     },
     "execution_count": 17,
     "metadata": {},
     "output_type": "execute_result"
    }
   ],
   "source": [
    "shelf[0]"
   ]
  },
  {
   "cell_type": "code",
   "execution_count": 18,
   "id": "dc557899",
   "metadata": {},
   "outputs": [
    {
     "ename": "TypeError",
     "evalue": "list indices must be integers or slices, not str",
     "output_type": "error",
     "traceback": [
      "\u001b[0;31m---------------------------------------------------------------------------\u001b[0m",
      "\u001b[0;31mTypeError\u001b[0m                                 Traceback (most recent call last)",
      "Cell \u001b[0;32mIn[18], line 1\u001b[0m\n\u001b[0;32m----> 1\u001b[0m \u001b[43mshelf\u001b[49m\u001b[43m[\u001b[49m\u001b[38;5;124;43m\"\u001b[39;49m\u001b[38;5;124;43mHomo\u001b[39;49m\u001b[38;5;124;43m\"\u001b[39;49m\u001b[43m]\u001b[49m\n",
      "Cell \u001b[0;32mIn[12], line 62\u001b[0m, in \u001b[0;36mBookShelf.__getitem__\u001b[0;34m(self, item)\u001b[0m\n\u001b[1;32m     61\u001b[0m \u001b[38;5;28;01mdef\u001b[39;00m \u001b[38;5;21m__getitem__\u001b[39m(\u001b[38;5;28mself\u001b[39m, item):\n\u001b[0;32m---> 62\u001b[0m     \u001b[38;5;28;01mreturn\u001b[39;00m \u001b[38;5;28;43mself\u001b[39;49m\u001b[38;5;241;43m.\u001b[39;49m\u001b[43mbooks\u001b[49m\u001b[43m[\u001b[49m\u001b[43mitem\u001b[49m\u001b[43m]\u001b[49m\n",
      "\u001b[0;31mTypeError\u001b[0m: list indices must be integers or slices, not str"
     ]
    }
   ],
   "source": [
    "shelf[\"Homo\"]"
   ]
  },
  {
   "cell_type": "code",
   "execution_count": 35,
   "id": "efd8a1cd",
   "metadata": {},
   "outputs": [],
   "source": [
    "class BookShelf:\n",
    "    def __init__(self, capacity):\n",
    "        self.books = []\n",
    "        self.capacity = capacity\n",
    "    \n",
    "    def add_book(self, book):\n",
    "        if not isinstance(book, Book):\n",
    "            raise TypeError(\"Only instances of Book could be added to the Bookshelf\")\n",
    "            \n",
    "        if not self.capacity > len(self.books):\n",
    "            raise OverflowError(\"BookShelf is full\")\n",
    "        \n",
    "        self.books.append(book)\n",
    "\n",
    "    def __add__(self, other):\n",
    "        if not isinstance(other, Book):\n",
    "            return TypeError(\"Operating only supported on instances of Book\")\n",
    "        \n",
    "        new_shelf = BookShelf( self.capacity )\n",
    "        for book in self.books:\n",
    "            new_shelf.add_book(book)\n",
    "        \n",
    "        new_shelf.add_book(other)\n",
    "        return new_shelf\n",
    "        \n",
    "    def __radd__(self, other):\n",
    "        if not isinstance(other, Book):\n",
    "            raise TypeError(\"Only instances of Book could be added to the Bookshelf\")\n",
    "        \n",
    "        return self+other\n",
    "        \n",
    "        \n",
    "    def __repr__(self):\n",
    "        return str(self.books)\n",
    "    \n",
    "    def __getitem__(self, item):\n",
    "        if isinstance(item, str):\n",
    "            return [ book for book in self.books if item.lower() in book.title.lower() ]\n",
    "        return self.books[item]"
   ]
  },
  {
   "cell_type": "code",
   "execution_count": 36,
   "id": "971186fa",
   "metadata": {},
   "outputs": [],
   "source": [
    "b1 = Book(\"Homo Empathicus\", \"Alexander Gorlach\", \"Paperback\", 160)\n",
    "b2 = Book(\"Titan\", \"Ron Chernow\", \"Hardcover\", 832)\n",
    "b3 = Book(\"The Circle\", \"Dave Eggers\", \"Paperback\", 497)\n",
    "b4 = Book(\"Homo Deus\", \"Yuval Noah Harari\", \"Paperback\", 464)"
   ]
  },
  {
   "cell_type": "code",
   "execution_count": 37,
   "id": "393a2835",
   "metadata": {},
   "outputs": [],
   "source": [
    "shelf = BookShelf(10)"
   ]
  },
  {
   "cell_type": "code",
   "execution_count": 38,
   "id": "0516c511",
   "metadata": {},
   "outputs": [],
   "source": [
    "shelf += b1\n",
    "shelf += b2\n",
    "shelf += b3\n",
    "shelf += b4"
   ]
  },
  {
   "cell_type": "code",
   "execution_count": 39,
   "id": "d9a453f0",
   "metadata": {},
   "outputs": [
    {
     "data": {
      "text/plain": [
       "[Book('Homo Empathicus', 'Alexander Gorlach', 'Paperback', 160), Book('Titan', 'Ron Chernow', 'Hardcover', 832), Book('The Circle', 'Dave Eggers', 'Paperback', 497), Book('Homo Deus', 'Yuval Noah Harari', 'Paperback', 464)]"
      ]
     },
     "execution_count": 39,
     "metadata": {},
     "output_type": "execute_result"
    }
   ],
   "source": [
    "shelf"
   ]
  },
  {
   "cell_type": "code",
   "execution_count": 40,
   "id": "d5c84453",
   "metadata": {},
   "outputs": [
    {
     "data": {
      "text/plain": [
       "[Book('Homo Empathicus', 'Alexander Gorlach', 'Paperback', 160),\n",
       " Book('Homo Deus', 'Yuval Noah Harari', 'Paperback', 464)]"
      ]
     },
     "execution_count": 40,
     "metadata": {},
     "output_type": "execute_result"
    }
   ],
   "source": [
    "shelf[\"Homo\"]"
   ]
  },
  {
   "cell_type": "code",
   "execution_count": 41,
   "id": "b5c61ddc",
   "metadata": {},
   "outputs": [],
   "source": [
    "# case sensitive"
   ]
  },
  {
   "cell_type": "code",
   "execution_count": 42,
   "id": "3a9412b3",
   "metadata": {},
   "outputs": [
    {
     "data": {
      "text/plain": [
       "[Book('Homo Empathicus', 'Alexander Gorlach', 'Paperback', 160),\n",
       " Book('Homo Deus', 'Yuval Noah Harari', 'Paperback', 464)]"
      ]
     },
     "execution_count": 42,
     "metadata": {},
     "output_type": "execute_result"
    }
   ],
   "source": [
    "shelf[\"homo\"]"
   ]
  },
  {
   "cell_type": "code",
   "execution_count": 45,
   "id": "a04fbf89",
   "metadata": {},
   "outputs": [
    {
     "data": {
      "text/plain": [
       "[Book('The Circle', 'Dave Eggers', 'Paperback', 497)]"
      ]
     },
     "execution_count": 45,
     "metadata": {},
     "output_type": "execute_result"
    }
   ],
   "source": [
    "shelf[2:3]"
   ]
  },
  {
   "cell_type": "code",
   "execution_count": 46,
   "id": "0f9a5bab",
   "metadata": {},
   "outputs": [
    {
     "name": "stdout",
     "output_type": "stream",
     "text": [
      "Book('Homo Empathicus', 'Alexander Gorlach', 'Paperback', 160)\n",
      "Book('Titan', 'Ron Chernow', 'Hardcover', 832)\n",
      "Book('The Circle', 'Dave Eggers', 'Paperback', 497)\n",
      "Book('Homo Deus', 'Yuval Noah Harari', 'Paperback', 464)\n"
     ]
    }
   ],
   "source": [
    "for book in shelf:\n",
    "    print(book)"
   ]
  },
  {
   "cell_type": "code",
   "execution_count": null,
   "id": "173a4c04",
   "metadata": {},
   "outputs": [],
   "source": []
  }
 ],
 "metadata": {
  "kernelspec": {
   "display_name": "Python 3 (ipykernel)",
   "language": "python",
   "name": "python3"
  },
  "language_info": {
   "codemirror_mode": {
    "name": "ipython",
    "version": 3
   },
   "file_extension": ".py",
   "mimetype": "text/x-python",
   "name": "python",
   "nbconvert_exporter": "python",
   "pygments_lexer": "ipython3",
   "version": "3.9.12"
  }
 },
 "nbformat": 4,
 "nbformat_minor": 5
}
