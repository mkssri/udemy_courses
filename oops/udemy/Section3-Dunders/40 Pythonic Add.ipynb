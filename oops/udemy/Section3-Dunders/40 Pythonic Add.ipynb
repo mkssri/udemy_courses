{
 "cells": [
  {
   "cell_type": "code",
   "execution_count": 9,
   "id": "23aaa4ac",
   "metadata": {},
   "outputs": [],
   "source": [
    "from functools import total_ordering\n",
    "\n",
    "@total_ordering\n",
    "class Book:\n",
    "    def __init__(self, title, author, book_type, pages):\n",
    "        self.title = title\n",
    "        self.author = author\n",
    "        self.book_type = book_type\n",
    "        self.pages = pages\n",
    "    def __repr__(self):\n",
    "        return f\"Book('{self.title}', '{self.author}', '{self.book_type}', {self.pages})\"\n",
    "    def __eq__(self, other):\n",
    "        if not isinstance(other, Book):\n",
    "            return False\n",
    "        return self.title == other.title and self.author == other.author\n",
    "    def __gt__(self, other):\n",
    "        if not isinstance(other, Book):\n",
    "            return NotImplemented\n",
    "        \n",
    "        return self.pages > other.pages\n",
    "    def __hash__(self):\n",
    "        return hash((self.title,self.author))\n",
    "    def __len__(self):\n",
    "        return self.pages if self.pages>0 else 0\n",
    "\n",
    "class BookShelf:\n",
    "    def __init__(self, capacity):\n",
    "        self.books = []\n",
    "        self.capacity = capacity\n",
    "    \n",
    "    def add_book(self, book):\n",
    "        if not isinstance(book, Book):\n",
    "            raise TypeError(\"Only instances of Book could be added to the Bookshelf\")\n",
    "            \n",
    "        if not self.capacity > len(self.books):\n",
    "            raise OverflowError(\"BookShelf is full\")\n",
    "        \n",
    "        self.books.append(book)\n",
    "        \n",
    "    def __repr__(self):\n",
    "        return str(self.books)"
   ]
  },
  {
   "cell_type": "code",
   "execution_count": 10,
   "id": "2fc53dd5",
   "metadata": {},
   "outputs": [],
   "source": [
    "b1 = Book(\"Homo Empathicus\", \"Alexander Gorlach\", \"Paperback\", 160)\n",
    "b2 = Book(\"Titan\", \"Ron Chernow\", \"Hardcover\", 832)\n",
    "b3 = Book(\"The Circle\", \"Dave Eggers\", \"Paperback\", 497)\n",
    "b4 = Book(\"Homo Deus\", \"Yuval Noah Harari\", \"Paperback\", 464)"
   ]
  },
  {
   "cell_type": "code",
   "execution_count": 11,
   "id": "0ccf4bdf",
   "metadata": {},
   "outputs": [],
   "source": [
    "shelf = BookShelf(10)\n",
    "shelf.add_book(b1)\n",
    "shelf.add_book(b2)"
   ]
  },
  {
   "cell_type": "code",
   "execution_count": 12,
   "id": "d6badf7f",
   "metadata": {},
   "outputs": [
    {
     "ename": "TypeError",
     "evalue": "unsupported operand type(s) for +: 'BookShelf' and 'Book'",
     "output_type": "error",
     "traceback": [
      "\u001b[0;31m---------------------------------------------------------------------------\u001b[0m",
      "\u001b[0;31mTypeError\u001b[0m                                 Traceback (most recent call last)",
      "Cell \u001b[0;32mIn[12], line 1\u001b[0m\n\u001b[0;32m----> 1\u001b[0m \u001b[43mshelf\u001b[49m\u001b[43m \u001b[49m\u001b[38;5;241;43m+\u001b[39;49m\u001b[43m \u001b[49m\u001b[43mb3\u001b[49m\n",
      "\u001b[0;31mTypeError\u001b[0m: unsupported operand type(s) for +: 'BookShelf' and 'Book'"
     ]
    }
   ],
   "source": [
    "shelf + b3"
   ]
  },
  {
   "cell_type": "code",
   "execution_count": 20,
   "id": "eb2dd0e4",
   "metadata": {},
   "outputs": [],
   "source": [
    "from functools import total_ordering\n",
    "\n",
    "@total_ordering\n",
    "class Book:\n",
    "    def __init__(self, title, author, book_type, pages):\n",
    "        self.title = title\n",
    "        self.author = author\n",
    "        self.book_type = book_type\n",
    "        self.pages = pages\n",
    "    def __repr__(self):\n",
    "        return f\"Book('{self.title}', '{self.author}', '{self.book_type}', {self.pages})\"\n",
    "    def __eq__(self, other):\n",
    "        if not isinstance(other, Book):\n",
    "            return False\n",
    "        return self.title == other.title and self.author == other.author\n",
    "    def __gt__(self, other):\n",
    "        if not isinstance(other, Book):\n",
    "            return NotImplemented\n",
    "        \n",
    "        return self.pages > other.pages\n",
    "    def __hash__(self):\n",
    "        return hash((self.title,self.author))\n",
    "    def __len__(self):\n",
    "        return self.pages if self.pages>0 else 0\n",
    "\n",
    "class BookShelf:\n",
    "    def __init__(self, capacity):\n",
    "        self.books = []\n",
    "        self.capacity = capacity\n",
    "    \n",
    "    def add_book(self, book):\n",
    "        if not isinstance(book, Book):\n",
    "            raise TypeError(\"Only instances of Book could be added to the Bookshelf\")\n",
    "            \n",
    "        if not self.capacity > len(self.books):\n",
    "            raise OverflowError(\"BookShelf is full\")\n",
    "        \n",
    "        self.books.append(book)\n",
    "\n",
    "    def __add__(self, other):\n",
    "        if not isinstance(other, Book):\n",
    "            return TypeError(\"Operating only supported on instances of Book\")\n",
    "        \n",
    "        new_shelf = BookShelf( self.capacity )\n",
    "        for book in self.books:\n",
    "            new_shelf.add_book(book)\n",
    "        \n",
    "        new_shelf.add_book(other)\n",
    "        return new_shelf\n",
    "        \n",
    "        \n",
    "        \n",
    "    def __repr__(self):\n",
    "        return str(self.books)"
   ]
  },
  {
   "cell_type": "code",
   "execution_count": 21,
   "id": "1bbc1ac8",
   "metadata": {},
   "outputs": [],
   "source": [
    "b1 = Book(\"Homo Empathicus\", \"Alexander Gorlach\", \"Paperback\", 160)\n",
    "b2 = Book(\"Titan\", \"Ron Chernow\", \"Hardcover\", 832)\n",
    "b3 = Book(\"The Circle\", \"Dave Eggers\", \"Paperback\", 497)\n",
    "b4 = Book(\"Homo Deus\", \"Yuval Noah Harari\", \"Paperback\", 464)"
   ]
  },
  {
   "cell_type": "code",
   "execution_count": 22,
   "id": "16025ed1",
   "metadata": {},
   "outputs": [],
   "source": [
    "shelf = BookShelf(10)\n",
    "shelf.add_book(b1)\n",
    "shelf.add_book(b2)"
   ]
  },
  {
   "cell_type": "code",
   "execution_count": 23,
   "id": "989eb180",
   "metadata": {},
   "outputs": [
    {
     "data": {
      "text/plain": [
       "[Book('Homo Empathicus', 'Alexander Gorlach', 'Paperback', 160), Book('Titan', 'Ron Chernow', 'Hardcover', 832), Book('The Circle', 'Dave Eggers', 'Paperback', 497)]"
      ]
     },
     "execution_count": 23,
     "metadata": {},
     "output_type": "execute_result"
    }
   ],
   "source": [
    "shelf + b3"
   ]
  },
  {
   "cell_type": "code",
   "execution_count": 24,
   "id": "310c07b9",
   "metadata": {},
   "outputs": [
    {
     "data": {
      "text/plain": [
       "[Book('Homo Empathicus', 'Alexander Gorlach', 'Paperback', 160), Book('Titan', 'Ron Chernow', 'Hardcover', 832)]"
      ]
     },
     "execution_count": 24,
     "metadata": {},
     "output_type": "execute_result"
    }
   ],
   "source": [
    "shelf"
   ]
  },
  {
   "cell_type": "code",
   "execution_count": 26,
   "id": "6421e31e",
   "metadata": {},
   "outputs": [
    {
     "ename": "TypeError",
     "evalue": "unsupported operand type(s) for +: 'Book' and 'BookShelf'",
     "output_type": "error",
     "traceback": [
      "\u001b[0;31m---------------------------------------------------------------------------\u001b[0m",
      "\u001b[0;31mTypeError\u001b[0m                                 Traceback (most recent call last)",
      "Cell \u001b[0;32mIn[26], line 1\u001b[0m\n\u001b[0;32m----> 1\u001b[0m \u001b[43mb3\u001b[49m\u001b[43m \u001b[49m\u001b[38;5;241;43m+\u001b[39;49m\u001b[43m \u001b[49m\u001b[43mshelf\u001b[49m\n",
      "\u001b[0;31mTypeError\u001b[0m: unsupported operand type(s) for +: 'Book' and 'BookShelf'"
     ]
    }
   ],
   "source": [
    "b3 + shelf"
   ]
  },
  {
   "cell_type": "code",
   "execution_count": 28,
   "id": "14835b8e",
   "metadata": {},
   "outputs": [],
   "source": [
    "# radd -> right add ( b3+shelf )"
   ]
  },
  {
   "cell_type": "code",
   "execution_count": 29,
   "id": "2e953192",
   "metadata": {},
   "outputs": [
    {
     "ename": "AttributeError",
     "evalue": "'Book' object has no attribute '__add__'",
     "output_type": "error",
     "traceback": [
      "\u001b[0;31m---------------------------------------------------------------------------\u001b[0m",
      "\u001b[0;31mAttributeError\u001b[0m                            Traceback (most recent call last)",
      "Cell \u001b[0;32mIn[29], line 1\u001b[0m\n\u001b[0;32m----> 1\u001b[0m \u001b[43mb3\u001b[49m\u001b[38;5;241;43m.\u001b[39;49m\u001b[38;5;21;43m__add__\u001b[39;49m(shelf)\n",
      "\u001b[0;31mAttributeError\u001b[0m: 'Book' object has no attribute '__add__'"
     ]
    }
   ],
   "source": [
    "b3.__add__(shelf)"
   ]
  },
  {
   "cell_type": "code",
   "execution_count": 30,
   "id": "dde1f8ab",
   "metadata": {},
   "outputs": [
    {
     "ename": "AttributeError",
     "evalue": "'BookShelf' object has no attribute '__radd__'",
     "output_type": "error",
     "traceback": [
      "\u001b[0;31m---------------------------------------------------------------------------\u001b[0m",
      "\u001b[0;31mAttributeError\u001b[0m                            Traceback (most recent call last)",
      "Cell \u001b[0;32mIn[30], line 1\u001b[0m\n\u001b[0;32m----> 1\u001b[0m \u001b[43mshelf\u001b[49m\u001b[38;5;241;43m.\u001b[39;49m\u001b[38;5;21;43m__radd__\u001b[39;49m(b3)\n",
      "\u001b[0;31mAttributeError\u001b[0m: 'BookShelf' object has no attribute '__radd__'"
     ]
    }
   ],
   "source": [
    "shelf.__radd__(b3)"
   ]
  },
  {
   "cell_type": "code",
   "execution_count": 31,
   "id": "07857cc0",
   "metadata": {},
   "outputs": [],
   "source": [
    "# <---- right to left"
   ]
  },
  {
   "cell_type": "code",
   "execution_count": null,
   "id": "a1cc056b",
   "metadata": {},
   "outputs": [],
   "source": [
    "# Operator overloading"
   ]
  },
  {
   "cell_type": "code",
   "execution_count": 32,
   "id": "e8aee027",
   "metadata": {},
   "outputs": [],
   "source": [
    "from functools import total_ordering\n",
    "\n",
    "@total_ordering\n",
    "class Book:\n",
    "    def __init__(self, title, author, book_type, pages):\n",
    "        self.title = title\n",
    "        self.author = author\n",
    "        self.book_type = book_type\n",
    "        self.pages = pages\n",
    "    def __repr__(self):\n",
    "        return f\"Book('{self.title}', '{self.author}', '{self.book_type}', {self.pages})\"\n",
    "    def __eq__(self, other):\n",
    "        if not isinstance(other, Book):\n",
    "            return False\n",
    "        return self.title == other.title and self.author == other.author\n",
    "    def __gt__(self, other):\n",
    "        if not isinstance(other, Book):\n",
    "            return NotImplemented\n",
    "        \n",
    "        return self.pages > other.pages\n",
    "    def __hash__(self):\n",
    "        return hash((self.title,self.author))\n",
    "    def __len__(self):\n",
    "        return self.pages if self.pages>0 else 0\n",
    "\n",
    "class BookShelf:\n",
    "    def __init__(self, capacity):\n",
    "        self.books = []\n",
    "        self.capacity = capacity\n",
    "    \n",
    "    def add_book(self, book):\n",
    "        if not isinstance(book, Book):\n",
    "            raise TypeError(\"Only instances of Book could be added to the Bookshelf\")\n",
    "            \n",
    "        if not self.capacity > len(self.books):\n",
    "            raise OverflowError(\"BookShelf is full\")\n",
    "        \n",
    "        self.books.append(book)\n",
    "\n",
    "    def __add__(self, other):\n",
    "        if not isinstance(other, Book):\n",
    "            return TypeError(\"Operating only supported on instances of Book\")\n",
    "        \n",
    "        new_shelf = BookShelf( self.capacity )\n",
    "        for book in self.books:\n",
    "            new_shelf.add_book(book)\n",
    "        \n",
    "        new_shelf.add_book(other)\n",
    "        return new_shelf\n",
    "        \n",
    "    def __radd__(self, other):\n",
    "        if not isinstance(other, Book):\n",
    "            raise TypeError(\"Only instances of Book could be added to the Bookshelf\")\n",
    "        \n",
    "        return self+other\n",
    "        \n",
    "        \n",
    "    def __repr__(self):\n",
    "        return str(self.books)"
   ]
  },
  {
   "cell_type": "code",
   "execution_count": 33,
   "id": "d7161d94",
   "metadata": {},
   "outputs": [],
   "source": [
    "b1 = Book(\"Homo Empathicus\", \"Alexander Gorlach\", \"Paperback\", 160)\n",
    "b2 = Book(\"Titan\", \"Ron Chernow\", \"Hardcover\", 832)\n",
    "b3 = Book(\"The Circle\", \"Dave Eggers\", \"Paperback\", 497)\n",
    "b4 = Book(\"Homo Deus\", \"Yuval Noah Harari\", \"Paperback\", 464)"
   ]
  },
  {
   "cell_type": "code",
   "execution_count": 44,
   "id": "c7c35b2a",
   "metadata": {},
   "outputs": [],
   "source": [
    "shelf = BookShelf(10)\n",
    "shelf.add_book(b1)\n",
    "shelf.add_book(b2)"
   ]
  },
  {
   "cell_type": "code",
   "execution_count": 45,
   "id": "8d0cde82",
   "metadata": {},
   "outputs": [
    {
     "data": {
      "text/plain": [
       "[Book('Homo Empathicus', 'Alexander Gorlach', 'Paperback', 160), Book('Titan', 'Ron Chernow', 'Hardcover', 832), Book('The Circle', 'Dave Eggers', 'Paperback', 497)]"
      ]
     },
     "execution_count": 45,
     "metadata": {},
     "output_type": "execute_result"
    }
   ],
   "source": [
    "shelf+b3"
   ]
  },
  {
   "cell_type": "code",
   "execution_count": 46,
   "id": "28b59bce",
   "metadata": {},
   "outputs": [
    {
     "data": {
      "text/plain": [
       "[Book('Homo Empathicus', 'Alexander Gorlach', 'Paperback', 160), Book('Titan', 'Ron Chernow', 'Hardcover', 832), Book('The Circle', 'Dave Eggers', 'Paperback', 497)]"
      ]
     },
     "execution_count": 46,
     "metadata": {},
     "output_type": "execute_result"
    }
   ],
   "source": [
    "b3+shelf"
   ]
  },
  {
   "cell_type": "code",
   "execution_count": 47,
   "id": "e9c64eac",
   "metadata": {},
   "outputs": [
    {
     "data": {
      "text/plain": [
       "[Book('Homo Empathicus', 'Alexander Gorlach', 'Paperback', 160), Book('Titan', 'Ron Chernow', 'Hardcover', 832)]"
      ]
     },
     "execution_count": 47,
     "metadata": {},
     "output_type": "execute_result"
    }
   ],
   "source": [
    "shelf"
   ]
  },
  {
   "cell_type": "code",
   "execution_count": 48,
   "id": "00ef0806",
   "metadata": {},
   "outputs": [],
   "source": [
    "# Inplace Addtion"
   ]
  },
  {
   "cell_type": "code",
   "execution_count": 49,
   "id": "5225b161",
   "metadata": {},
   "outputs": [],
   "source": [
    "shelf += b4"
   ]
  },
  {
   "cell_type": "code",
   "execution_count": 50,
   "id": "ad7d3603",
   "metadata": {},
   "outputs": [
    {
     "data": {
      "text/plain": [
       "[Book('Homo Empathicus', 'Alexander Gorlach', 'Paperback', 160), Book('Titan', 'Ron Chernow', 'Hardcover', 832), Book('Homo Deus', 'Yuval Noah Harari', 'Paperback', 464)]"
      ]
     },
     "execution_count": 50,
     "metadata": {},
     "output_type": "execute_result"
    }
   ],
   "source": [
    "shelf"
   ]
  },
  {
   "cell_type": "code",
   "execution_count": null,
   "id": "7b56c13f",
   "metadata": {},
   "outputs": [],
   "source": []
  }
 ],
 "metadata": {
  "kernelspec": {
   "display_name": "Python 3 (ipykernel)",
   "language": "python",
   "name": "python3"
  },
  "language_info": {
   "codemirror_mode": {
    "name": "ipython",
    "version": 3
   },
   "file_extension": ".py",
   "mimetype": "text/x-python",
   "name": "python",
   "nbconvert_exporter": "python",
   "pygments_lexer": "ipython3",
   "version": "3.9.12"
  }
 },
 "nbformat": 4,
 "nbformat_minor": 5
}
