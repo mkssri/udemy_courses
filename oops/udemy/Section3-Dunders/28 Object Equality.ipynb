{
 "cells": [
  {
   "cell_type": "code",
   "execution_count": 2,
   "id": "d632bb43",
   "metadata": {},
   "outputs": [],
   "source": [
    "class Book:\n",
    "    def __init__(self, title, author, book_type, pages):\n",
    "        self.title = title\n",
    "        self.author = author\n",
    "        self.book_type = book_type\n",
    "        self.pages = pages\n",
    "    def __repr__(self):\n",
    "        return f\"Book('{self.title}', '{self.author}', '{self.book_type}', {self.pages})\""
   ]
  },
  {
   "cell_type": "code",
   "execution_count": 3,
   "id": "1c5ab528",
   "metadata": {},
   "outputs": [],
   "source": [
    "b = Book(\"Antifragile\", \"Nassim Taleb\", \"Hardcover\", 519)"
   ]
  },
  {
   "cell_type": "code",
   "execution_count": 4,
   "id": "8b1b5be1",
   "metadata": {},
   "outputs": [],
   "source": [
    "b2 = Book(\"Antifragile\", \"Nassim Taleb\", \"Hardcover\", 519)"
   ]
  },
  {
   "cell_type": "code",
   "execution_count": 5,
   "id": "41877a90",
   "metadata": {},
   "outputs": [
    {
     "data": {
      "text/plain": [
       "False"
      ]
     },
     "execution_count": 5,
     "metadata": {},
     "output_type": "execute_result"
    }
   ],
   "source": [
    "b == b2"
   ]
  },
  {
   "cell_type": "code",
   "execution_count": 6,
   "id": "edd14f2a",
   "metadata": {},
   "outputs": [
    {
     "data": {
      "text/plain": [
       "4415629872"
      ]
     },
     "execution_count": 6,
     "metadata": {},
     "output_type": "execute_result"
    }
   ],
   "source": [
    "id(b)"
   ]
  },
  {
   "cell_type": "code",
   "execution_count": 7,
   "id": "467e8b0f",
   "metadata": {},
   "outputs": [
    {
     "data": {
      "text/plain": [
       "4415629248"
      ]
     },
     "execution_count": 7,
     "metadata": {},
     "output_type": "execute_result"
    }
   ],
   "source": [
    "id(b2)"
   ]
  },
  {
   "cell_type": "code",
   "execution_count": 44,
   "id": "72f2308c",
   "metadata": {},
   "outputs": [],
   "source": [
    "class Book:\n",
    "    def __init__(self, title, author, book_type, pages):\n",
    "        self.title = title\n",
    "        self.author = author\n",
    "        self.book_type = book_type\n",
    "        self.pages = pages\n",
    "    def __repr__(self):\n",
    "        return f\"Book('{self.title}', '{self.author}', '{self.book_type}', {self.pages})\"\n",
    "    def __eq__(self, other):\n",
    "        if not isinstance(other, Book):\n",
    "            return False\n",
    "        return self.title == other.title and self.author == other.author"
   ]
  },
  {
   "cell_type": "code",
   "execution_count": 45,
   "id": "37f86403",
   "metadata": {},
   "outputs": [],
   "source": [
    "b = Book(\"Antifragile\", \"Nassim Taleb\", \"Hardcover\", 519)"
   ]
  },
  {
   "cell_type": "code",
   "execution_count": 46,
   "id": "4b1d64dc",
   "metadata": {},
   "outputs": [],
   "source": [
    "b2 = Book(\"Antifragile\", \"Nassim Taleb II\", \"Hardcover\", 519)"
   ]
  },
  {
   "cell_type": "code",
   "execution_count": 47,
   "id": "80a52e42",
   "metadata": {},
   "outputs": [
    {
     "data": {
      "text/plain": [
       "False"
      ]
     },
     "execution_count": 47,
     "metadata": {},
     "output_type": "execute_result"
    }
   ],
   "source": [
    "b == b2"
   ]
  },
  {
   "cell_type": "code",
   "execution_count": 48,
   "id": "9cf92c4f",
   "metadata": {},
   "outputs": [],
   "source": [
    "from collections import namedtuple"
   ]
  },
  {
   "cell_type": "code",
   "execution_count": 49,
   "id": "53a5fa2e",
   "metadata": {},
   "outputs": [],
   "source": [
    "essay = namedtuple(\"essay\",[\"title\", \"author\"])"
   ]
  },
  {
   "cell_type": "code",
   "execution_count": 50,
   "id": "720ed952",
   "metadata": {},
   "outputs": [],
   "source": [
    "e = essay(\"Antifragile\", \"Nassim Taleb\")"
   ]
  },
  {
   "cell_type": "code",
   "execution_count": 51,
   "id": "42a5abf9",
   "metadata": {},
   "outputs": [
    {
     "data": {
      "text/plain": [
       "'Antifragile'"
      ]
     },
     "execution_count": 51,
     "metadata": {},
     "output_type": "execute_result"
    }
   ],
   "source": [
    "e.title"
   ]
  },
  {
   "cell_type": "code",
   "execution_count": 52,
   "id": "736bc104",
   "metadata": {},
   "outputs": [
    {
     "data": {
      "text/plain": [
       "'Nassim Taleb'"
      ]
     },
     "execution_count": 52,
     "metadata": {},
     "output_type": "execute_result"
    }
   ],
   "source": [
    "e.author"
   ]
  },
  {
   "cell_type": "code",
   "execution_count": 53,
   "id": "dd006c8f",
   "metadata": {},
   "outputs": [
    {
     "data": {
      "text/plain": [
       "False"
      ]
     },
     "execution_count": 53,
     "metadata": {},
     "output_type": "execute_result"
    }
   ],
   "source": [
    "e == b"
   ]
  },
  {
   "cell_type": "code",
   "execution_count": 54,
   "id": "c44e63f5",
   "metadata": {},
   "outputs": [
    {
     "data": {
      "text/plain": [
       "('Antifragile', 'Nassim Taleb')"
      ]
     },
     "execution_count": 54,
     "metadata": {},
     "output_type": "execute_result"
    }
   ],
   "source": [
    "b.title, b.author"
   ]
  },
  {
   "cell_type": "code",
   "execution_count": 56,
   "id": "3e145797",
   "metadata": {},
   "outputs": [
    {
     "data": {
      "text/plain": [
       "False"
      ]
     },
     "execution_count": 56,
     "metadata": {},
     "output_type": "execute_result"
    }
   ],
   "source": [
    "isinstance(e,Book)"
   ]
  },
  {
   "cell_type": "code",
   "execution_count": 57,
   "id": "c89da299",
   "metadata": {},
   "outputs": [
    {
     "data": {
      "text/plain": [
       "True"
      ]
     },
     "execution_count": 57,
     "metadata": {},
     "output_type": "execute_result"
    }
   ],
   "source": [
    "isinstance(b,Book)"
   ]
  },
  {
   "cell_type": "code",
   "execution_count": null,
   "id": "ebbd9cee",
   "metadata": {},
   "outputs": [],
   "source": []
  }
 ],
 "metadata": {
  "kernelspec": {
   "display_name": "Python 3 (ipykernel)",
   "language": "python",
   "name": "python3"
  },
  "language_info": {
   "codemirror_mode": {
    "name": "ipython",
    "version": 3
   },
   "file_extension": ".py",
   "mimetype": "text/x-python",
   "name": "python",
   "nbconvert_exporter": "python",
   "pygments_lexer": "ipython3",
   "version": "3.9.12"
  }
 },
 "nbformat": 4,
 "nbformat_minor": 5
}
