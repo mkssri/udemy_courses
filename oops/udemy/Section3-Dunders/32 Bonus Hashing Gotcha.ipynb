{
 "cells": [
  {
   "cell_type": "code",
   "execution_count": 1,
   "id": "d4e3bbb4",
   "metadata": {},
   "outputs": [],
   "source": [
    "# - has a hash value that never changes over its life\n",
    "# - could be compared to other objects, and\n",
    "# - if it compares equal, shares the same hash with the other object"
   ]
  },
  {
   "cell_type": "code",
   "execution_count": 2,
   "id": "b6a8196a",
   "metadata": {},
   "outputs": [],
   "source": [
    "class Book:\n",
    "    def __init__(self, title, author, book_type, pages):\n",
    "        self.title = title\n",
    "        self.author = author\n",
    "        self.book_type = book_type\n",
    "        self.pages = pages\n",
    "    def __repr__(self):\n",
    "        return f\"Book('{self.title}', '{self.author}', '{self.book_type}', {self.pages})\"\n",
    "    def __eq__(self, other):\n",
    "        if not isinstance(other, Book):\n",
    "            return False\n",
    "        return self.title == other.title and self.author == other.author\n",
    "    def __hash__(self):\n",
    "        return hash((self.title,self.author))"
   ]
  },
  {
   "cell_type": "code",
   "execution_count": 3,
   "id": "dcc1e581",
   "metadata": {},
   "outputs": [],
   "source": [
    "b = Book(\"Antifragile\", \"Nassim Taleb\", \"Hardcover\", 519)"
   ]
  },
  {
   "cell_type": "code",
   "execution_count": 4,
   "id": "07c27d8a",
   "metadata": {},
   "outputs": [
    {
     "data": {
      "text/plain": [
       "-6543020230846887243"
      ]
     },
     "execution_count": 4,
     "metadata": {},
     "output_type": "execute_result"
    }
   ],
   "source": [
    "hash(b)"
   ]
  },
  {
   "cell_type": "code",
   "execution_count": 5,
   "id": "b9292886",
   "metadata": {},
   "outputs": [],
   "source": [
    "b.author=\"Andy\""
   ]
  },
  {
   "cell_type": "code",
   "execution_count": 6,
   "id": "78166355",
   "metadata": {},
   "outputs": [
    {
     "data": {
      "text/plain": [
       "-261197893373506677"
      ]
     },
     "execution_count": 6,
     "metadata": {},
     "output_type": "execute_result"
    }
   ],
   "source": [
    "hash(b)"
   ]
  },
  {
   "cell_type": "code",
   "execution_count": 7,
   "id": "bfb0adf2",
   "metadata": {},
   "outputs": [],
   "source": [
    "# __hash__ -> hash((self.title,self.author))"
   ]
  },
  {
   "cell_type": "code",
   "execution_count": 8,
   "id": "d6fe09af",
   "metadata": {},
   "outputs": [],
   "source": [
    "d = {}"
   ]
  },
  {
   "cell_type": "code",
   "execution_count": 9,
   "id": "d9d91381",
   "metadata": {},
   "outputs": [],
   "source": [
    "d[b]=\"value\""
   ]
  },
  {
   "cell_type": "code",
   "execution_count": 10,
   "id": "ee5f3c55",
   "metadata": {},
   "outputs": [
    {
     "data": {
      "text/plain": [
       "True"
      ]
     },
     "execution_count": 10,
     "metadata": {},
     "output_type": "execute_result"
    }
   ],
   "source": [
    "b in d"
   ]
  },
  {
   "cell_type": "code",
   "execution_count": 11,
   "id": "6aea9a39",
   "metadata": {},
   "outputs": [],
   "source": [
    "b.title=\"Untitled\""
   ]
  },
  {
   "cell_type": "code",
   "execution_count": 12,
   "id": "bced5617",
   "metadata": {},
   "outputs": [
    {
     "data": {
      "text/plain": [
       "False"
      ]
     },
     "execution_count": 12,
     "metadata": {},
     "output_type": "execute_result"
    }
   ],
   "source": [
    "b in d"
   ]
  }
 ],
 "metadata": {
  "kernelspec": {
   "display_name": "Python 3 (ipykernel)",
   "language": "python",
   "name": "python3"
  },
  "language_info": {
   "codemirror_mode": {
    "name": "ipython",
    "version": 3
   },
   "file_extension": ".py",
   "mimetype": "text/x-python",
   "name": "python",
   "nbconvert_exporter": "python",
   "pygments_lexer": "ipython3",
   "version": "3.9.12"
  }
 },
 "nbformat": 4,
 "nbformat_minor": 5
}
