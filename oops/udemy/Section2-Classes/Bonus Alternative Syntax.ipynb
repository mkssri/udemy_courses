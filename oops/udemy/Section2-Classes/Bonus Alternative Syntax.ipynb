{
 "cells": [
  {
   "cell_type": "code",
   "execution_count": 1,
   "id": "53b6d27a",
   "metadata": {},
   "outputs": [
    {
     "name": "stdout",
     "output_type": "stream",
     "text": [
      "A lease is created for <class '__main__.A'>\n",
      "A lease is created for <class '__main__.A'>\n"
     ]
    }
   ],
   "source": [
    "class A:\n",
    "    # State\n",
    "    doors=2\n",
    "    wheels=4\n",
    "    model='G'\n",
    "    # Behaviour\n",
    "    def __init__(self,color):\n",
    "        self.color=color\n",
    "    def drive(self):\n",
    "        #self is instance\n",
    "        return f\"Car is driving. And it is {self}\\n\"\n",
    "    #@staticmethod\n",
    "    def auto_drive():\n",
    "        return \"Auto driving for now...\"\n",
    "    #@classmethod\n",
    "    def create_lease(cls):\n",
    "        return \"A lease is created for {}\".format(cls)\n",
    "    \n",
    "    create_lease = classmethod(create_lease)\n",
    "    auto_drive = staticmethod(auto_drive)\n",
    "    \n",
    "a1=A('pink')\n",
    "#class methods are powerful to change class attributes either from instances or normal classes.\n",
    "print(a1.create_lease())\n",
    "print(A.create_lease())"
   ]
  },
  {
   "cell_type": "code",
   "execution_count": null,
   "id": "dfbe740c",
   "metadata": {},
   "outputs": [],
   "source": []
  }
 ],
 "metadata": {
  "kernelspec": {
   "display_name": "Python 3 (ipykernel)",
   "language": "python",
   "name": "python3"
  },
  "language_info": {
   "codemirror_mode": {
    "name": "ipython",
    "version": 3
   },
   "file_extension": ".py",
   "mimetype": "text/x-python",
   "name": "python",
   "nbconvert_exporter": "python",
   "pygments_lexer": "ipython3",
   "version": "3.9.12"
  }
 },
 "nbformat": 4,
 "nbformat_minor": 5
}
