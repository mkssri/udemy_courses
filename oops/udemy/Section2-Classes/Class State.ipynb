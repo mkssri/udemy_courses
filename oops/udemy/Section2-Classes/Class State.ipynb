{
 "cells": [
  {
   "cell_type": "code",
   "execution_count": 2,
   "id": "a60ba293",
   "metadata": {},
   "outputs": [
    {
     "data": {
      "text/plain": [
       "mappingproxy({'__module__': '__main__',\n",
       "              'doors': 2,\n",
       "              'wheels': 4,\n",
       "              '__dict__': <attribute '__dict__' of 'A' objects>,\n",
       "              '__weakref__': <attribute '__weakref__' of 'A' objects>,\n",
       "              '__doc__': None})"
      ]
     },
     "execution_count": 2,
     "metadata": {},
     "output_type": "execute_result"
    }
   ],
   "source": [
    "class A:\n",
    "    doors=2\n",
    "    wheels=4\n",
    "    \n",
    "# __dict__\n",
    "\n",
    "A.__dict__"
   ]
  },
  {
   "cell_type": "code",
   "execution_count": 5,
   "id": "735b1581",
   "metadata": {},
   "outputs": [
    {
     "data": {
      "text/plain": [
       "mappingproxy({'__module__': '__main__',\n",
       "              'doors': 4,\n",
       "              'wheels': 4,\n",
       "              '__dict__': <attribute '__dict__' of 'A' objects>,\n",
       "              '__weakref__': <attribute '__weakref__' of 'A' objects>,\n",
       "              '__doc__': None})"
      ]
     },
     "execution_count": 5,
     "metadata": {},
     "output_type": "execute_result"
    }
   ],
   "source": [
    "A.doors=4\n",
    "A.__dict__"
   ]
  },
  {
   "cell_type": "code",
   "execution_count": 8,
   "id": "3c676c5e",
   "metadata": {},
   "outputs": [
    {
     "data": {
      "text/plain": [
       "mappingproxy({'__module__': '__main__',\n",
       "              'doors': 4,\n",
       "              'wheels': 4,\n",
       "              '__dict__': <attribute '__dict__' of 'A' objects>,\n",
       "              '__weakref__': <attribute '__weakref__' of 'A' objects>,\n",
       "              '__doc__': None,\n",
       "              'model': 'G'})"
      ]
     },
     "execution_count": 8,
     "metadata": {},
     "output_type": "execute_result"
    }
   ],
   "source": [
    "A.model='G'\n",
    "A.__dict__"
   ]
  },
  {
   "cell_type": "code",
   "execution_count": 10,
   "id": "ec7eb36c",
   "metadata": {},
   "outputs": [
    {
     "name": "stdout",
     "output_type": "stream",
     "text": [
      "G\n",
      "G\n"
     ]
    }
   ],
   "source": [
    "a1=A()\n",
    "a2=A()\n",
    "print(a1.model)\n",
    "print(a2.model)"
   ]
  },
  {
   "cell_type": "code",
   "execution_count": null,
   "id": "223e514e",
   "metadata": {},
   "outputs": [],
   "source": []
  }
 ],
 "metadata": {
  "kernelspec": {
   "display_name": "Python 3 (ipykernel)",
   "language": "python",
   "name": "python3"
  },
  "language_info": {
   "codemirror_mode": {
    "name": "ipython",
    "version": 3
   },
   "file_extension": ".py",
   "mimetype": "text/x-python",
   "name": "python",
   "nbconvert_exporter": "python",
   "pygments_lexer": "ipython3",
   "version": "3.9.12"
  }
 },
 "nbformat": 4,
 "nbformat_minor": 5
}
