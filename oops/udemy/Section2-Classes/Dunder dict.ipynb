{
 "cells": [
  {
   "cell_type": "code",
   "execution_count": 6,
   "id": "330e6595",
   "metadata": {},
   "outputs": [
    {
     "name": "stdout",
     "output_type": "stream",
     "text": [
      "a1.color: pink\n"
     ]
    }
   ],
   "source": [
    "class A:\n",
    "    # State\n",
    "    doors=2\n",
    "    wheels=4\n",
    "    model='G'\n",
    "    # Behaviour\n",
    "    def __init__(self,color):\n",
    "        self.color=color\n",
    "    def drive(self):\n",
    "        #self is instance\n",
    "        return f\"Car is driving. And it is {self}\\n\"\n",
    "    @staticmethod\n",
    "    def auto_drive():\n",
    "        return \"Auto driving for now...\"\n",
    "    @classmethod\n",
    "    def create_lease(cls):\n",
    "        return \"A lease is created for {}\".format(cls)\n",
    "    \n",
    "a1=A('pink')\n",
    "a2=A('blk')\n",
    "print(\"a1.color: {}\".format(a1.color))"
   ]
  },
  {
   "cell_type": "code",
   "execution_count": 7,
   "id": "fbbd599e",
   "metadata": {},
   "outputs": [
    {
     "name": "stdout",
     "output_type": "stream",
     "text": [
      "{'color': 'pink'}\n"
     ]
    }
   ],
   "source": [
    "print(a1.__dict__)"
   ]
  },
  {
   "cell_type": "code",
   "execution_count": 8,
   "id": "42313583",
   "metadata": {},
   "outputs": [
    {
     "name": "stdout",
     "output_type": "stream",
     "text": [
      "{'__module__': '__main__', 'doors': 2, 'wheels': 4, 'model': 'G', '__init__': <function A.__init__ at 0x11025b0d0>, 'drive': <function A.drive at 0x11025bc10>, 'auto_drive': <staticmethod object at 0x1101b4d00>, 'create_lease': <classmethod object at 0x1101b43d0>, '__dict__': <attribute '__dict__' of 'A' objects>, '__weakref__': <attribute '__weakref__' of 'A' objects>, '__doc__': None}\n"
     ]
    }
   ],
   "source": [
    "print(A.__dict__)"
   ]
  },
  {
   "cell_type": "code",
   "execution_count": 9,
   "id": "5f5a2423",
   "metadata": {},
   "outputs": [
    {
     "name": "stdout",
     "output_type": "stream",
     "text": [
      "{'color': 'blk'}\n"
     ]
    }
   ],
   "source": [
    "print(a2.__dict__)"
   ]
  },
  {
   "cell_type": "code",
   "execution_count": 10,
   "id": "f1c9fcff",
   "metadata": {},
   "outputs": [
    {
     "name": "stdout",
     "output_type": "stream",
     "text": [
      "{'color': 'blk', 'horse_power': 400}\n"
     ]
    }
   ],
   "source": [
    "a2.horse_power=400\n",
    "print(a2.__dict__)"
   ]
  },
  {
   "cell_type": "code",
   "execution_count": 11,
   "id": "5bffbfb5",
   "metadata": {},
   "outputs": [
    {
     "name": "stdout",
     "output_type": "stream",
     "text": [
      "{'color': 'pink'}\n"
     ]
    }
   ],
   "source": [
    "print(a1.__dict__)"
   ]
  },
  {
   "cell_type": "code",
   "execution_count": 12,
   "id": "4223699e",
   "metadata": {},
   "outputs": [
    {
     "name": "stdout",
     "output_type": "stream",
     "text": [
      "{'color': 'pink', 'horse_power': 600}\n"
     ]
    }
   ],
   "source": [
    "a1.__dict__['horse_power']=600\n",
    "print(a1.__dict__)"
   ]
  },
  {
   "cell_type": "code",
   "execution_count": null,
   "id": "43f46d55",
   "metadata": {},
   "outputs": [],
   "source": []
  }
 ],
 "metadata": {
  "kernelspec": {
   "display_name": "Python 3 (ipykernel)",
   "language": "python",
   "name": "python3"
  },
  "language_info": {
   "codemirror_mode": {
    "name": "ipython",
    "version": 3
   },
   "file_extension": ".py",
   "mimetype": "text/x-python",
   "name": "python",
   "nbconvert_exporter": "python",
   "pygments_lexer": "ipython3",
   "version": "3.9.12"
  }
 },
 "nbformat": 4,
 "nbformat_minor": 5
}
