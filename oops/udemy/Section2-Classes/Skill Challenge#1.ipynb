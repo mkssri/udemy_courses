{
 "cells": [
  {
   "cell_type": "code",
   "execution_count": 4,
   "id": "2db9a4ed",
   "metadata": {},
   "outputs": [
    {
     "name": "stdout",
     "output_type": "stream",
     "text": [
      "Hi, i'm dunkin\n",
      "Hi, Oh my name is donut\n",
      "Hi, Oh my name is chipotle\n",
      "Hi, Oh my name is cha\n"
     ]
    }
   ],
   "source": [
    "import random\n",
    "\n",
    "class Student:\n",
    "    \n",
    "    educational_platform=\"udemy\"\n",
    "    \n",
    "    def __init__(self, name, age=\"29\"):\n",
    "        self.name=name\n",
    "        self.age=age\n",
    "    \n",
    "    def greet(self):\n",
    "        num=random.randint(0,3)\n",
    "        if num==0:\n",
    "            return \"Hi, i'm {}\".format(self.name)\n",
    "        elif num==1:\n",
    "            return \"Hey there, my name is {}\".format(self.name)\n",
    "        else:\n",
    "            return \"Hi, Oh my name is {}\".format(self.name)\n",
    "        \n",
    "stu_lst=['dunkin','donut','chipotle','cha']\n",
    "res=[]\n",
    "for stu in stu_lst:\n",
    "    tmp=Student(stu)\n",
    "    res.append(tmp)\n",
    "\n",
    "for stu in res:\n",
    "    print(stu.greet())"
   ]
  },
  {
   "cell_type": "code",
   "execution_count": 6,
   "id": "3f7015be",
   "metadata": {},
   "outputs": [
    {
     "name": "stdout",
     "output_type": "stream",
     "text": [
      "Hey there, my name is dunkin\n",
      "Hi, Oh my name is donut\n",
      "Hey there, my name is chipotle\n",
      "Hi, i'm cha\n"
     ]
    }
   ],
   "source": [
    "import random\n",
    "\n",
    "class Student:\n",
    "    \n",
    "    educational_platform=\"udemy\"\n",
    "    \n",
    "    def __init__(self, name, age=\"29\"):\n",
    "        self.name=name\n",
    "        self.age=age\n",
    "    \n",
    "    def greet(self):\n",
    "        _greetings = [\n",
    "            \"Hi, i'm {}\",\n",
    "            \"Hey there, my name is {}\",\n",
    "            \"Hi, Oh my name is {}\"\n",
    "        ]\n",
    "        greeting=random.choice(_greetings)\n",
    "        return greeting.format(self.name)\n",
    "    \n",
    "def class_create(student_names):\n",
    "    return [ Student(name) for name in student_names ]\n",
    "\n",
    "if __name__==\"__main__\":\n",
    "    stu_lst=['dunkin','donut','chipotle','cha']\n",
    "    \n",
    "    for student in class_create(stu_lst):\n",
    "        print(student.greet())\n"
   ]
  },
  {
   "cell_type": "code",
   "execution_count": null,
   "id": "ed664716",
   "metadata": {},
   "outputs": [],
   "source": []
  }
 ],
 "metadata": {
  "kernelspec": {
   "display_name": "Python 3 (ipykernel)",
   "language": "python",
   "name": "python3"
  },
  "language_info": {
   "codemirror_mode": {
    "name": "ipython",
    "version": 3
   },
   "file_extension": ".py",
   "mimetype": "text/x-python",
   "name": "python",
   "nbconvert_exporter": "python",
   "pygments_lexer": "ipython3",
   "version": "3.9.12"
  }
 },
 "nbformat": 4,
 "nbformat_minor": 5
}
