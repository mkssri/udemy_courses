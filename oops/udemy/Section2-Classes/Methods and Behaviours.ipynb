{
 "cells": [
  {
   "cell_type": "code",
   "execution_count": 2,
   "id": "26e9cec6",
   "metadata": {},
   "outputs": [
    {
     "data": {
      "text/plain": [
       "True"
      ]
     },
     "execution_count": 2,
     "metadata": {},
     "output_type": "execute_result"
    }
   ],
   "source": [
    "class A:\n",
    "    # State\n",
    "    doors=2\n",
    "    wheels=4\n",
    "    model='G'\n",
    "    # Behaviour\n",
    "    def drive(self):\n",
    "        #self is instance\n",
    "        return self\n",
    "a1=A()\n",
    "a1==a1.drive()"
   ]
  },
  {
   "cell_type": "code",
   "execution_count": 3,
   "id": "97a84df7",
   "metadata": {},
   "outputs": [
    {
     "name": "stdout",
     "output_type": "stream",
     "text": [
      "Car is driving. And it is <__main__.A object at 0x105dfbb50>\n",
      "\n",
      "Car is driving. And it is <__main__.A object at 0x105e1eca0>\n",
      "\n"
     ]
    }
   ],
   "source": [
    "class A:\n",
    "    # State\n",
    "    doors=2\n",
    "    wheels=4\n",
    "    model='G'\n",
    "    # Behaviour\n",
    "    def drive(self):\n",
    "        #self is instance\n",
    "        return f\"Car is driving. And it is {self}\\n\"\n",
    "a1=A()\n",
    "a2=A()\n",
    "print(a1.drive())\n",
    "print(a2.drive())"
   ]
  },
  {
   "cell_type": "code",
   "execution_count": 7,
   "id": "038a797b",
   "metadata": {},
   "outputs": [
    {
     "name": "stdout",
     "output_type": "stream",
     "text": [
      "<function A.drive at 0x105e37700>\n",
      "<bound method A.drive of <__main__.A object at 0x105dfbb50>>\n",
      "<bound method A.drive of <__main__.A object at 0x105e1eca0>>\n"
     ]
    },
    {
     "data": {
      "text/plain": [
       "method"
      ]
     },
     "execution_count": 7,
     "metadata": {},
     "output_type": "execute_result"
    }
   ],
   "source": [
    "print(A.drive)\n",
    "type(A.drive)\n",
    "print(a1.drive)\n",
    "print(a2.drive)\n",
    "type(a2.drive)"
   ]
  },
  {
   "cell_type": "code",
   "execution_count": null,
   "id": "35749e99",
   "metadata": {},
   "outputs": [],
   "source": []
  }
 ],
 "metadata": {
  "kernelspec": {
   "display_name": "Python 3 (ipykernel)",
   "language": "python",
   "name": "python3"
  },
  "language_info": {
   "codemirror_mode": {
    "name": "ipython",
    "version": 3
   },
   "file_extension": ".py",
   "mimetype": "text/x-python",
   "name": "python",
   "nbconvert_exporter": "python",
   "pygments_lexer": "ipython3",
   "version": "3.9.12"
  }
 },
 "nbformat": 4,
 "nbformat_minor": 5
}
