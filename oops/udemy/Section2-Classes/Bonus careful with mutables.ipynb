{
 "cells": [
  {
   "cell_type": "code",
   "execution_count": 1,
   "id": "16265a50",
   "metadata": {},
   "outputs": [],
   "source": [
    "class A:\n",
    "    # State\n",
    "    doors=2\n",
    "    wheels=4\n",
    "    model='G'\n",
    "    # Behaviour\n",
    "    def __init__(self,color):\n",
    "        self.color=color\n",
    "    def drive(self):\n",
    "        #self is instance\n",
    "        return f\"Car is driving. And it is {self}\\n\"\n",
    "    @staticmethod\n",
    "    def auto_drive():\n",
    "        return \"Auto driving for now...\"\n",
    "    @classmethod\n",
    "    def create_lease(cls):\n",
    "        return \"A lease is created for {}\".format(cls)"
   ]
  },
  {
   "cell_type": "code",
   "execution_count": 2,
   "id": "c89aa3e1",
   "metadata": {},
   "outputs": [],
   "source": [
    "class Tyre:\n",
    "    def __init__(self,kind,no_hrs):\n",
    "        self.kind=kind\n",
    "        self.no_hrs=no_hrs"
   ]
  },
  {
   "cell_type": "code",
   "execution_count": 3,
   "id": "5c5b0e0d",
   "metadata": {},
   "outputs": [
    {
     "name": "stdout",
     "output_type": "stream",
     "text": [
      "[<__main__.Tyre object at 0x107cb2d00>, <__main__.Tyre object at 0x107c90970>, <__main__.Tyre object at 0x107c26520>, <__main__.Tyre object at 0x107cdf0a0>]\n",
      "[<__main__.Tyre object at 0x107cb2d00>, <__main__.Tyre object at 0x107c90970>, <__main__.Tyre object at 0x107c26520>, <__main__.Tyre object at 0x107cdf0a0>]\n"
     ]
    }
   ],
   "source": [
    "class A:\n",
    "    # State\n",
    "    doors=2\n",
    "    wheels=4\n",
    "    model='G'\n",
    "    tyres=[Tyre(\"operational\",10) for i in range(4)]\n",
    "    # Behaviour\n",
    "    def __init__(self,color):\n",
    "        self.color=color\n",
    "    def drive(self):\n",
    "        #self is instance\n",
    "        return f\"Car is driving. And it is {self}\\n\"\n",
    "    @staticmethod\n",
    "    def auto_drive():\n",
    "        return \"Auto driving for now...\"\n",
    "    @classmethod\n",
    "    def create_lease(cls):\n",
    "        return \"A lease is created for {}\".format(cls)\n",
    "    \n",
    "a1=A('pink')\n",
    "print(a1.tyres)\n",
    "print(A.tyres)"
   ]
  },
  {
   "cell_type": "code",
   "execution_count": 4,
   "id": "087962ee",
   "metadata": {},
   "outputs": [
    {
     "name": "stdout",
     "output_type": "stream",
     "text": [
      "[<__main__.Tyre object at 0x107cb2d00>, <__main__.Tyre object at 0x107c90970>, <__main__.Tyre object at 0x107c26520>, <__main__.Tyre object at 0x107cdf0a0>, <__main__.Tyre object at 0x107cb2eb0>]\n"
     ]
    }
   ],
   "source": [
    "a1.tyres.append(Tyre('not-operational',100000))\n",
    "print(A.tyres)"
   ]
  },
  {
   "cell_type": "code",
   "execution_count": 5,
   "id": "7a1e5088",
   "metadata": {},
   "outputs": [],
   "source": [
    "#mutable datastructures as class object's"
   ]
  },
  {
   "cell_type": "code",
   "execution_count": null,
   "id": "0008db94",
   "metadata": {},
   "outputs": [],
   "source": []
  }
 ],
 "metadata": {
  "kernelspec": {
   "display_name": "Python 3 (ipykernel)",
   "language": "python",
   "name": "python3"
  },
  "language_info": {
   "codemirror_mode": {
    "name": "ipython",
    "version": 3
   },
   "file_extension": ".py",
   "mimetype": "text/x-python",
   "name": "python",
   "nbconvert_exporter": "python",
   "pygments_lexer": "ipython3",
   "version": "3.9.12"
  }
 },
 "nbformat": 4,
 "nbformat_minor": 5
}
