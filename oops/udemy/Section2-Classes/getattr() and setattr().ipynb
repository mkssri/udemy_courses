{
 "cells": [
  {
   "cell_type": "code",
   "execution_count": 3,
   "id": "6a7f35e1",
   "metadata": {},
   "outputs": [
    {
     "name": "stdout",
     "output_type": "stream",
     "text": [
      "blk red\n",
      "blk less red\n"
     ]
    }
   ],
   "source": [
    "class A:\n",
    "    # State\n",
    "    doors=2\n",
    "    wheels=4\n",
    "    model='G'\n",
    "    # Behaviour\n",
    "    def __init__(self,color):\n",
    "        self.color=color\n",
    "    def drive(self):\n",
    "        #self is instance\n",
    "        return f\"Car is driving. And it is {self}\\n\"\n",
    "a1=A('blk')\n",
    "a2=A('red')\n",
    "\n",
    "print(getattr(a1,'color'), getattr(a2,'color'))\n",
    "setattr(a2,'color','less red')\n",
    "print(getattr(a1,'color'), getattr(a2,'color'))"
   ]
  },
  {
   "cell_type": "code",
   "execution_count": 8,
   "id": "b4b72739",
   "metadata": {},
   "outputs": [
    {
     "name": "stdout",
     "output_type": "stream",
     "text": [
      "navy blu navy blu\n",
      "10 10\n"
     ]
    },
    {
     "data": {
      "text/plain": [
       "[('color', 'navy blu'), ('wheels', 10)]"
      ]
     },
     "execution_count": 8,
     "metadata": {},
     "output_type": "execute_result"
    }
   ],
   "source": [
    "objs=[a1,a2]\n",
    "attrs=['color','wheels']\n",
    "vals=['navy blu',10]\n",
    "\n",
    "for obj in objs:\n",
    "    for attr,val in zip(attrs,vals):\n",
    "        setattr(obj,attr,val)\n",
    "print(getattr(a1,'color'), getattr(a2,'color'))\n",
    "print(getattr(a1,'wheels'), getattr(a2,'wheels'))\n",
    "zip(attrs,vals)\n",
    "list(zip(attrs,vals))"
   ]
  },
  {
   "cell_type": "code",
   "execution_count": 9,
   "id": "87476e3f",
   "metadata": {},
   "outputs": [
    {
     "ename": "AttributeError",
     "evalue": "'A' object has no attribute 'txt'",
     "output_type": "error",
     "traceback": [
      "\u001b[0;31m---------------------------------------------------------------------------\u001b[0m",
      "\u001b[0;31mAttributeError\u001b[0m                            Traceback (most recent call last)",
      "Cell \u001b[0;32mIn[9], line 1\u001b[0m\n\u001b[0;32m----> 1\u001b[0m \u001b[43ma1\u001b[49m\u001b[38;5;241;43m.\u001b[39;49m\u001b[43mtxt\u001b[49m\n",
      "\u001b[0;31mAttributeError\u001b[0m: 'A' object has no attribute 'txt'"
     ]
    }
   ],
   "source": [
    "a1.txt"
   ]
  },
  {
   "cell_type": "code",
   "execution_count": 10,
   "id": "cd4056db",
   "metadata": {},
   "outputs": [
    {
     "name": "stdout",
     "output_type": "stream",
     "text": [
      "'A' object has no attribute 'txt'\n"
     ]
    }
   ],
   "source": [
    "try:\n",
    "    print(a1.txt)\n",
    "except AttributeError as e:\n",
    "    print(e)"
   ]
  },
  {
   "cell_type": "code",
   "execution_count": 12,
   "id": "6bc8c828",
   "metadata": {},
   "outputs": [
    {
     "name": "stdout",
     "output_type": "stream",
     "text": [
      "txt attribute Not Present\n"
     ]
    }
   ],
   "source": [
    "print(getattr(a1,'txt','txt attribute Not Present'))"
   ]
  },
  {
   "cell_type": "code",
   "execution_count": null,
   "id": "b255be87",
   "metadata": {},
   "outputs": [],
   "source": []
  }
 ],
 "metadata": {
  "kernelspec": {
   "display_name": "Python 3 (ipykernel)",
   "language": "python",
   "name": "python3"
  },
  "language_info": {
   "codemirror_mode": {
    "name": "ipython",
    "version": 3
   },
   "file_extension": ".py",
   "mimetype": "text/x-python",
   "name": "python",
   "nbconvert_exporter": "python",
   "pygments_lexer": "ipython3",
   "version": "3.9.12"
  }
 },
 "nbformat": 4,
 "nbformat_minor": 5
}
