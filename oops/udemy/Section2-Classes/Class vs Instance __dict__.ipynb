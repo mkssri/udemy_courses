{
 "cells": [
  {
   "cell_type": "code",
   "execution_count": 1,
   "id": "a76c3988",
   "metadata": {},
   "outputs": [],
   "source": [
    "class A:\n",
    "    # State\n",
    "    doors=2\n",
    "    wheels=4\n",
    "    model='G'\n",
    "    # Behaviour\n",
    "    def __init__(self,color):\n",
    "        self.color=color\n",
    "    def drive(self):\n",
    "        #self is instance\n",
    "        return f\"Car is driving. And it is {self}\\n\"\n",
    "    @staticmethod\n",
    "    def auto_drive():\n",
    "        return \"Auto driving for now...\"\n",
    "    @classmethod\n",
    "    def create_lease(cls):\n",
    "        return \"A lease is created for {}\".format(cls)"
   ]
  },
  {
   "cell_type": "code",
   "execution_count": 2,
   "id": "3034a469",
   "metadata": {},
   "outputs": [
    {
     "data": {
      "text/plain": [
       "mappingproxy({'__module__': '__main__',\n",
       "              'doors': 2,\n",
       "              'wheels': 4,\n",
       "              'model': 'G',\n",
       "              '__init__': <function __main__.A.__init__(self, color)>,\n",
       "              'drive': <function __main__.A.drive(self)>,\n",
       "              'auto_drive': <staticmethod at 0x11072eca0>,\n",
       "              'create_lease': <classmethod at 0x11072ecd0>,\n",
       "              '__dict__': <attribute '__dict__' of 'A' objects>,\n",
       "              '__weakref__': <attribute '__weakref__' of 'A' objects>,\n",
       "              '__doc__': None})"
      ]
     },
     "execution_count": 2,
     "metadata": {},
     "output_type": "execute_result"
    }
   ],
   "source": [
    "A.__dict__"
   ]
  },
  {
   "cell_type": "code",
   "execution_count": 4,
   "id": "16353c2e",
   "metadata": {},
   "outputs": [
    {
     "data": {
      "text/plain": [
       "mappingproxy"
      ]
     },
     "execution_count": 4,
     "metadata": {},
     "output_type": "execute_result"
    }
   ],
   "source": [
    "type(A.__dict__)\n",
    "# all keys are string"
   ]
  },
  {
   "cell_type": "code",
   "execution_count": 5,
   "id": "834ac91f",
   "metadata": {},
   "outputs": [],
   "source": [
    "# MRO -> Method resolution Order"
   ]
  },
  {
   "cell_type": "code",
   "execution_count": 6,
   "id": "4e4579ce",
   "metadata": {},
   "outputs": [],
   "source": [
    "a1=A(\"pink\")"
   ]
  },
  {
   "cell_type": "code",
   "execution_count": 7,
   "id": "39319384",
   "metadata": {},
   "outputs": [
    {
     "data": {
      "text/plain": [
       "{'color': 'pink'}"
      ]
     },
     "execution_count": 7,
     "metadata": {},
     "output_type": "execute_result"
    }
   ],
   "source": [
    "a1.__dict__"
   ]
  },
  {
   "cell_type": "code",
   "execution_count": 8,
   "id": "beade106",
   "metadata": {},
   "outputs": [
    {
     "data": {
      "text/plain": [
       "'\\nget attribute by name of \"__dict__\"\\npython goes for looking it in the namespace, then the class\\nin the class it finds it\\nthe attribute name (__dict__) points to a descriptor\\nthe descriptors get is called\\nwhich returns a dictionary.\\n'"
      ]
     },
     "execution_count": 8,
     "metadata": {},
     "output_type": "execute_result"
    }
   ],
   "source": [
    "\"\"\"\n",
    "get attribute by name of \"__dict__\"\n",
    "python goes for looking it in the namespace, then the class\n",
    "in the class it finds it\n",
    "the attribute name (__dict__) points to a descriptor\n",
    "the descriptors get is called\n",
    "which returns a dictionary.\n",
    "\"\"\""
   ]
  },
  {
   "cell_type": "code",
   "execution_count": 9,
   "id": "e0e0abcf",
   "metadata": {},
   "outputs": [
    {
     "data": {
      "text/plain": [
       "'__main__'"
      ]
     },
     "execution_count": 9,
     "metadata": {},
     "output_type": "execute_result"
    }
   ],
   "source": [
    "a1.__module__"
   ]
  },
  {
   "cell_type": "code",
   "execution_count": 11,
   "id": "ca5f5d9d",
   "metadata": {},
   "outputs": [
    {
     "name": "stdout",
     "output_type": "stream",
     "text": [
      "None\n"
     ]
    }
   ],
   "source": [
    "print(a1.__doc__)"
   ]
  },
  {
   "cell_type": "code",
   "execution_count": 12,
   "id": "828d02ad",
   "metadata": {},
   "outputs": [
    {
     "data": {
      "text/plain": [
       "dict"
      ]
     },
     "execution_count": 12,
     "metadata": {},
     "output_type": "execute_result"
    }
   ],
   "source": [
    "type(a1.__dict__)"
   ]
  },
  {
   "cell_type": "code",
   "execution_count": null,
   "id": "c21f65b7",
   "metadata": {},
   "outputs": [],
   "source": []
  }
 ],
 "metadata": {
  "kernelspec": {
   "display_name": "Python 3 (ipykernel)",
   "language": "python",
   "name": "python3"
  },
  "language_info": {
   "codemirror_mode": {
    "name": "ipython",
    "version": 3
   },
   "file_extension": ".py",
   "mimetype": "text/x-python",
   "name": "python",
   "nbconvert_exporter": "python",
   "pygments_lexer": "ipython3",
   "version": "3.9.12"
  }
 },
 "nbformat": 4,
 "nbformat_minor": 5
}
