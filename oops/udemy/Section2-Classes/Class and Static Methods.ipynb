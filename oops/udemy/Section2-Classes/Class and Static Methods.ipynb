{
 "cells": [
  {
   "cell_type": "code",
   "execution_count": 2,
   "id": "6ed0d87b",
   "metadata": {},
   "outputs": [
    {
     "ename": "TypeError",
     "evalue": "__init__() missing 1 required positional argument: 'color'",
     "output_type": "error",
     "traceback": [
      "\u001b[0;31m---------------------------------------------------------------------------\u001b[0m",
      "\u001b[0;31mTypeError\u001b[0m                                 Traceback (most recent call last)",
      "Cell \u001b[0;32mIn[2], line 15\u001b[0m\n\u001b[1;32m     12\u001b[0m     \u001b[38;5;28;01mdef\u001b[39;00m \u001b[38;5;21mauto_drive\u001b[39m():\n\u001b[1;32m     13\u001b[0m         \u001b[38;5;28;01mreturn\u001b[39;00m \u001b[38;5;124m\"\u001b[39m\u001b[38;5;124mAuto driving for now...\u001b[39m\u001b[38;5;124m\"\u001b[39m\n\u001b[0;32m---> 15\u001b[0m a1\u001b[38;5;241m=\u001b[39m\u001b[43mA\u001b[49m\u001b[43m(\u001b[49m\u001b[43m)\u001b[49m\n\u001b[1;32m     16\u001b[0m \u001b[38;5;28mprint\u001b[39m(a1\u001b[38;5;241m.\u001b[39mauto_drive())\n",
      "\u001b[0;31mTypeError\u001b[0m: __init__() missing 1 required positional argument: 'color'"
     ]
    }
   ],
   "source": [
    "class A:\n",
    "    # State\n",
    "    doors=2\n",
    "    wheels=4\n",
    "    model='G'\n",
    "    # Behaviour\n",
    "    def __init__(self,color):\n",
    "        self.color=color\n",
    "    def drive(self):\n",
    "        #self is instance\n",
    "        return f\"Car is driving. And it is {self}\\n\"\n",
    "    def auto_drive():\n",
    "        return \"Auto driving for now...\"\n",
    "    \n",
    "a1=A()\n",
    "print(a1.auto_drive())"
   ]
  },
  {
   "cell_type": "code",
   "execution_count": 5,
   "id": "6d071333",
   "metadata": {},
   "outputs": [
    {
     "name": "stdout",
     "output_type": "stream",
     "text": [
      "Auto driving for now...\n",
      "Auto driving for now...\n"
     ]
    }
   ],
   "source": [
    "class A:\n",
    "    # State\n",
    "    doors=2\n",
    "    wheels=4\n",
    "    model='G'\n",
    "    # Behaviour\n",
    "    def __init__(self,color):\n",
    "        self.color=color\n",
    "    def drive(self):\n",
    "        #self is instance\n",
    "        return f\"Car is driving. And it is {self}\\n\"\n",
    "    @staticmethod\n",
    "    def auto_drive():\n",
    "        return \"Auto driving for now...\"\n",
    "    \n",
    "a1=A('pink')\n",
    "#static methods will have same functionality if invoked from classes or object's\n",
    "print(a1.auto_drive())\n",
    "print(A.auto_drive())"
   ]
  },
  {
   "cell_type": "code",
   "execution_count": null,
   "id": "692aee63",
   "metadata": {},
   "outputs": [],
   "source": []
  },
  {
   "cell_type": "code",
   "execution_count": 7,
   "id": "d7a9df82",
   "metadata": {},
   "outputs": [
    {
     "name": "stdout",
     "output_type": "stream",
     "text": [
      "A lease is created for <class '__main__.A'>\n",
      "A lease is created for <class '__main__.A'>\n"
     ]
    }
   ],
   "source": [
    "class A:\n",
    "    # State\n",
    "    doors=2\n",
    "    wheels=4\n",
    "    model='G'\n",
    "    # Behaviour\n",
    "    def __init__(self,color):\n",
    "        self.color=color\n",
    "    def drive(self):\n",
    "        #self is instance\n",
    "        return f\"Car is driving. And it is {self}\\n\"\n",
    "    @staticmethod\n",
    "    def auto_drive():\n",
    "        return \"Auto driving for now...\"\n",
    "    @classmethod\n",
    "    def create_lease(cls):\n",
    "        return \"A lease is created for {}\".format(cls)\n",
    "    \n",
    "a1=A('pink')\n",
    "#class methods are powerful to change class attributes either from instances or normal classes.\n",
    "print(a1.create_lease())\n",
    "print(A.create_lease())"
   ]
  },
  {
   "cell_type": "code",
   "execution_count": null,
   "id": "bbbd99b6",
   "metadata": {},
   "outputs": [],
   "source": []
  }
 ],
 "metadata": {
  "kernelspec": {
   "display_name": "Python 3 (ipykernel)",
   "language": "python",
   "name": "python3"
  },
  "language_info": {
   "codemirror_mode": {
    "name": "ipython",
    "version": 3
   },
   "file_extension": ".py",
   "mimetype": "text/x-python",
   "name": "python",
   "nbconvert_exporter": "python",
   "pygments_lexer": "ipython3",
   "version": "3.9.12"
  }
 },
 "nbformat": 4,
 "nbformat_minor": 5
}
