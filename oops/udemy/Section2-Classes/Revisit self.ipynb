{
 "cells": [
  {
   "cell_type": "code",
   "execution_count": 4,
   "id": "1c53c50e",
   "metadata": {},
   "outputs": [
    {
     "ename": "TypeError",
     "evalue": "auto_drive() takes 0 positional arguments but 1 was given",
     "output_type": "error",
     "traceback": [
      "\u001b[0;31m---------------------------------------------------------------------------\u001b[0m",
      "\u001b[0;31mTypeError\u001b[0m                                 Traceback (most recent call last)",
      "Cell \u001b[0;32mIn[4], line 16\u001b[0m\n\u001b[1;32m     13\u001b[0m         \u001b[38;5;28;01mreturn\u001b[39;00m \u001b[38;5;124m\"\u001b[39m\u001b[38;5;124mAuto driving\u001b[39m\u001b[38;5;124m\"\u001b[39m\n\u001b[1;32m     15\u001b[0m a1\u001b[38;5;241m=\u001b[39mA(\u001b[38;5;124m\"\u001b[39m\u001b[38;5;124mblk\u001b[39m\u001b[38;5;124m\"\u001b[39m)\n\u001b[0;32m---> 16\u001b[0m \u001b[38;5;28mprint\u001b[39m(\u001b[43ma1\u001b[49m\u001b[38;5;241;43m.\u001b[39;49m\u001b[43mauto_drive\u001b[49m\u001b[43m(\u001b[49m\u001b[43m)\u001b[49m)\n",
      "\u001b[0;31mTypeError\u001b[0m: auto_drive() takes 0 positional arguments but 1 was given"
     ]
    }
   ],
   "source": [
    "class A:\n",
    "    # State\n",
    "    doors=2\n",
    "    wheels=4\n",
    "    model='G'\n",
    "    # Behaviour\n",
    "    def __init__(self,color):\n",
    "        self.color=color\n",
    "    def drive(self):\n",
    "        #self is instance\n",
    "        return f\"Car is driving. And it is {self}\\n\"\n",
    "    def auto_drive():\n",
    "        return \"Auto driving for now...\"\n",
    "\n",
    "a1=A(\"blk\")\n",
    "print(a1.auto_drive())"
   ]
  },
  {
   "cell_type": "code",
   "execution_count": 5,
   "id": "d469c3f3",
   "metadata": {},
   "outputs": [
    {
     "name": "stdout",
     "output_type": "stream",
     "text": [
      "Auto driving for now...\n"
     ]
    }
   ],
   "source": [
    "class A:\n",
    "    # State\n",
    "    doors=2\n",
    "    wheels=4\n",
    "    model='G'\n",
    "    # Behaviour\n",
    "    def __init__(self,color):\n",
    "        self.color=color\n",
    "    def drive(self):\n",
    "        #self is instance\n",
    "        return f\"Car is driving. And it is {self}\\n\"\n",
    "    def auto_drive(self):\n",
    "        return \"Auto driving for now...\"\n",
    "\n",
    "a1=A(\"blk\")\n",
    "print(a1.auto_drive())"
   ]
  },
  {
   "cell_type": "code",
   "execution_count": 6,
   "id": "5262f61e",
   "metadata": {},
   "outputs": [],
   "source": [
    "# in C# and java: this(reserved)"
   ]
  },
  {
   "cell_type": "code",
   "execution_count": null,
   "id": "ea26b8ae",
   "metadata": {},
   "outputs": [],
   "source": []
  }
 ],
 "metadata": {
  "kernelspec": {
   "display_name": "Python 3 (ipykernel)",
   "language": "python",
   "name": "python3"
  },
  "language_info": {
   "codemirror_mode": {
    "name": "ipython",
    "version": 3
   },
   "file_extension": ".py",
   "mimetype": "text/x-python",
   "name": "python",
   "nbconvert_exporter": "python",
   "pygments_lexer": "ipython3",
   "version": "3.9.12"
  }
 },
 "nbformat": 4,
 "nbformat_minor": 5
}
