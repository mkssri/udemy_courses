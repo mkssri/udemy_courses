{
 "cells": [
  {
   "cell_type": "code",
   "execution_count": 1,
   "id": "51b4e5cf",
   "metadata": {},
   "outputs": [],
   "source": [
    "# In python every variable is public"
   ]
  },
  {
   "cell_type": "code",
   "execution_count": 2,
   "id": "6a103623",
   "metadata": {},
   "outputs": [],
   "source": [
    "class A:\n",
    "    # State\n",
    "    doors=2\n",
    "    wheels=4\n",
    "    model='G'\n",
    "    # Behaviour\n",
    "    def __init__(self,color):\n",
    "        self.color=color\n",
    "    def drive(self):\n",
    "        #self is instance\n",
    "        return f\"Car is driving. And it is {self}\\n\"\n",
    "    @staticmethod\n",
    "    def auto_drive():\n",
    "        return \"Auto driving for now...\"\n",
    "    @classmethod\n",
    "    def create_lease(cls):\n",
    "        return \"A lease is created for {}\".format(cls)"
   ]
  },
  {
   "cell_type": "code",
   "execution_count": 3,
   "id": "9e4f16d1",
   "metadata": {},
   "outputs": [],
   "source": [
    "a1=A('pink')"
   ]
  },
  {
   "cell_type": "code",
   "execution_count": 4,
   "id": "72992e48",
   "metadata": {},
   "outputs": [
    {
     "name": "stdout",
     "output_type": "stream",
     "text": [
      "10\n"
     ]
    }
   ],
   "source": [
    "a1.doors=10\n",
    "print(a1.doors)"
   ]
  },
  {
   "cell_type": "code",
   "execution_count": 5,
   "id": "60df80a5",
   "metadata": {},
   "outputs": [
    {
     "name": "stdout",
     "output_type": "stream",
     "text": [
      "abc\n"
     ]
    }
   ],
   "source": [
    "a1.doors=\"abc\"\n",
    "print(a1.doors)"
   ]
  },
  {
   "cell_type": "code",
   "execution_count": 6,
   "id": "9a39df8d",
   "metadata": {},
   "outputs": [],
   "source": [
    "# getter's and setter's can be implemented using concept: properties! :)"
   ]
  },
  {
   "cell_type": "code",
   "execution_count": null,
   "id": "5961a17d",
   "metadata": {},
   "outputs": [],
   "source": []
  }
 ],
 "metadata": {
  "kernelspec": {
   "display_name": "Python 3 (ipykernel)",
   "language": "python",
   "name": "python3"
  },
  "language_info": {
   "codemirror_mode": {
    "name": "ipython",
    "version": 3
   },
   "file_extension": ".py",
   "mimetype": "text/x-python",
   "name": "python",
   "nbconvert_exporter": "python",
   "pygments_lexer": "ipython3",
   "version": "3.9.12"
  }
 },
 "nbformat": 4,
 "nbformat_minor": 5
}
