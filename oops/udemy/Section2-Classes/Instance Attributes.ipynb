{
 "cells": [
  {
   "cell_type": "code",
   "execution_count": 4,
   "id": "3ba7ac57",
   "metadata": {},
   "outputs": [
    {
     "name": "stdout",
     "output_type": "stream",
     "text": [
      "2 2\n",
      "G G\n",
      "{'color': 'blk'}\n",
      "{'color': 'red'}\n",
      "{'__module__': '__main__', 'doors': 2, 'wheels': 4, 'model': 'G', 'drive': <function A.drive at 0x10526e700>, '__dict__': <attribute '__dict__' of 'A' objects>, '__weakref__': <attribute '__weakref__' of 'A' objects>, '__doc__': None}\n"
     ]
    }
   ],
   "source": [
    "class A:\n",
    "    # State\n",
    "    doors=2\n",
    "    wheels=4\n",
    "    model='G'\n",
    "    # Behaviour\n",
    "    def drive(self):\n",
    "        #self is instance\n",
    "        return f\"Car is driving. And it is {self}\\n\"\n",
    "a1=A()\n",
    "a2=A()\n",
    "print(a1.doors,a2.doors)\n",
    "print(a1.model,a2.model)\n",
    "a1.color=\"blk\"\n",
    "a2.color=\"red\"\n",
    "print(a1.__dict__)\n",
    "print(a2.__dict__)\n",
    "print(A.__dict__)"
   ]
  },
  {
   "cell_type": "code",
   "execution_count": 7,
   "id": "f8a9d4a0",
   "metadata": {},
   "outputs": [
    {
     "data": {
      "text/plain": [
       "('black', 'red')"
      ]
     },
     "execution_count": 7,
     "metadata": {},
     "output_type": "execute_result"
    }
   ],
   "source": [
    "class A:\n",
    "    # State\n",
    "    doors=2\n",
    "    wheels=4\n",
    "    model='G'\n",
    "    # Behaviour\n",
    "    def __init__(self,color):\n",
    "        self.color=color\n",
    "    def drive(self):\n",
    "        #self is instance\n",
    "        return f\"Car is driving. And it is {self}\\n\"\n",
    "a1=A('black')\n",
    "a2=A('red')\n",
    "a1.color, a2.color "
   ]
  },
  {
   "cell_type": "code",
   "execution_count": null,
   "id": "ed9ffc41",
   "metadata": {},
   "outputs": [],
   "source": []
  }
 ],
 "metadata": {
  "kernelspec": {
   "display_name": "Python 3 (ipykernel)",
   "language": "python",
   "name": "python3"
  },
  "language_info": {
   "codemirror_mode": {
    "name": "ipython",
    "version": 3
   },
   "file_extension": ".py",
   "mimetype": "text/x-python",
   "name": "python",
   "nbconvert_exporter": "python",
   "pygments_lexer": "ipython3",
   "version": "3.9.12"
  }
 },
 "nbformat": 4,
 "nbformat_minor": 5
}
